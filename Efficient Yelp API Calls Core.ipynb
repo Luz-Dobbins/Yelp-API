{
 "cells": [
  {
   "cell_type": "code",
   "execution_count": 1,
   "id": "bad58d92",
   "metadata": {},
   "outputs": [],
   "source": [
    "# Standard Imports\n",
    "import numpy as np\n",
    "import pandas as pd\n",
    "import matplotlib.pyplot as plt\n",
    "import seaborn as sns\n",
    "# additional imports\n",
    "import os, json, math, time\n",
    "from yelpapi import YelpAPI\n",
    "from tqdm.notebook import tqdm_notebook"
   ]
  },
  {
   "cell_type": "code",
   "execution_count": 2,
   "id": "6e4d7051",
   "metadata": {},
   "outputs": [
    {
     "data": {
      "text/plain": [
       "dict"
      ]
     },
     "execution_count": 2,
     "metadata": {},
     "output_type": "execute_result"
    }
   ],
   "source": [
    "with open('/Users/miran/.secret/yelp_api.json') as f:\n",
    "    json_file = json.load(f)\n",
    "type(json_file)"
   ]
  },
  {
   "cell_type": "code",
   "execution_count": 3,
   "id": "e0eb075b",
   "metadata": {},
   "outputs": [
    {
     "data": {
      "text/plain": [
       "<yelpapi.yelpapi.YelpAPI at 0x1f5a727d670>"
      ]
     },
     "execution_count": 3,
     "metadata": {},
     "output_type": "execute_result"
    }
   ],
   "source": [
    "from yelpapi import YelpAPI\n",
    "yelp_api = YelpAPI(json_file['api-key'], timeout_s=5.0)\n",
    "yelp_api"
   ]
  },
  {
   "cell_type": "code",
   "execution_count": 4,
   "id": "9f279e7f",
   "metadata": {},
   "outputs": [
    {
     "data": {
      "text/plain": [
       "dict_keys(['client-id', 'api-key'])"
      ]
     },
     "execution_count": 4,
     "metadata": {},
     "output_type": "execute_result"
    }
   ],
   "source": [
    "json_file.keys()"
   ]
  },
  {
   "cell_type": "code",
   "execution_count": 5,
   "id": "a856f0b6",
   "metadata": {},
   "outputs": [],
   "source": [
    "LOCATION = 'Gorham, NH'\n",
    "TERM = 'food'"
   ]
  },
  {
   "cell_type": "code",
   "execution_count": 6,
   "id": "35a27c1d",
   "metadata": {},
   "outputs": [
    {
     "name": "stdout",
     "output_type": "stream",
     "text": [
      "<class 'dict'>\n"
     ]
    },
    {
     "data": {
      "text/plain": [
       "dict_keys(['businesses', 'total', 'region'])"
      ]
     },
     "execution_count": 6,
     "metadata": {},
     "output_type": "execute_result"
    }
   ],
   "source": [
    "# Quick Test Query\n",
    "results = yelp_api.search_query(location='Gorham, NH',\n",
    "                                       term='food')\n",
    "print(type(results))\n",
    "results.keys()"
   ]
  },
  {
   "cell_type": "code",
   "execution_count": 7,
   "id": "1a32bbf0",
   "metadata": {},
   "outputs": [
    {
     "data": {
      "text/plain": [
       "'/Users/miran/.secret/yelp_api.json'"
      ]
     },
     "execution_count": 7,
     "metadata": {},
     "output_type": "execute_result"
    }
   ],
   "source": [
    "# Specifying JSON_FILE filename (can include a folder)\n",
    "# include the search terms in the filename\n",
    "JSON_FILE = \"/Users/miran/.secret/yelp_api.json\"\n",
    "JSON_FILE"
   ]
  },
  {
   "cell_type": "code",
   "execution_count": 8,
   "id": "f1d90f4f",
   "metadata": {},
   "outputs": [
    {
     "name": "stdout",
     "output_type": "stream",
     "text": [
      "[i] /Users/miran/.secret/yelp_api.json already exists.\n"
     ]
    }
   ],
   "source": [
    "## Check if JSON_FILE exists\n",
    "file_exists = os.path.isfile(JSON_FILE)\n",
    "## If it does not exist: \n",
    "if file_exists == False:\n",
    "    \n",
    "    ## CREATE ANY NEEDED FOLDERS\n",
    "    # Get the Folder Name only\n",
    "    folder = os.path.dirname(JSON_FILE)\n",
    "    ## If JSON_FILE included a folder:\n",
    "    if len(folder)>0:\n",
    "        # create the folder\n",
    "        os.makedirs(folder,exist_ok=True)\n",
    "        \n",
    "        \n",
    "    ## INFORM USER AND SAVE EMPTY LIST\n",
    "    print(f'[i] {JSON_FILE} not found. Saving empty list to file.')\n",
    "    \n",
    "    \n",
    "    # save an empty list\n",
    "    with open(JSON_FILE,'w') as f:\n",
    "        json.dump([],f)  \n",
    "# If it exists, inform user\n",
    "else:\n",
    "    print(f\"[i] {JSON_FILE} already exists.\")"
   ]
  },
  {
   "cell_type": "code",
   "execution_count": 9,
   "id": "22aa7100",
   "metadata": {},
   "outputs": [
    {
     "name": "stdout",
     "output_type": "stream",
     "text": [
      "- 2 previous results found.\n"
     ]
    }
   ],
   "source": [
    "## Load previous results and use len of results for offset\n",
    "with open(JSON_FILE,'r') as f:\n",
    "    previous_results = json.load(f)\n",
    "    \n",
    "## set offset based on previous results\n",
    "n_results = len(previous_results)\n",
    "print(f'- {n_results} previous results found.')"
   ]
  },
  {
   "cell_type": "code",
   "execution_count": 10,
   "id": "ff38b24c",
   "metadata": {},
   "outputs": [
    {
     "data": {
      "text/plain": [
       "22"
      ]
     },
     "execution_count": 10,
     "metadata": {},
     "output_type": "execute_result"
    }
   ],
   "source": [
    "total = results['total']\n",
    "total"
   ]
  },
  {
   "cell_type": "code",
   "execution_count": 11,
   "id": "11d0e352",
   "metadata": {},
   "outputs": [
    {
     "data": {
      "text/plain": [
       "20"
      ]
     },
     "execution_count": 11,
     "metadata": {},
     "output_type": "execute_result"
    }
   ],
   "source": [
    "per_page = len(results['businesses'])\n",
    "per_page"
   ]
  },
  {
   "cell_type": "code",
   "execution_count": 12,
   "id": "bdd39843",
   "metadata": {},
   "outputs": [
    {
     "data": {
      "text/plain": [
       "1"
      ]
     },
     "execution_count": 12,
     "metadata": {},
     "output_type": "execute_result"
    }
   ],
   "source": [
    "# Use math.ceil to round up for the total number of pages of results.\n",
    "n_pages = math.ceil((results['total']-n_results)/ per_page)\n",
    "n_pages"
   ]
  },
  {
   "cell_type": "code",
   "execution_count": 13,
   "id": "ed7f532d",
   "metadata": {},
   "outputs": [
    {
     "data": {
      "application/vnd.jupyter.widget-view+json": {
       "model_id": "6a96ce6f8a084d5f81565c50d62aaacd",
       "version_major": 2,
       "version_minor": 0
      },
      "text/plain": [
       "  0%|          | 0/1 [00:00<?, ?it/s]"
      ]
     },
     "metadata": {},
     "output_type": "display_data"
    }
   ],
   "source": [
    "for i in tqdm_notebook(range(n_pages)):\n",
    "    # adds 200 ms pause\n",
    "    time.sleep(.2)"
   ]
  },
  {
   "cell_type": "code",
   "execution_count": 14,
   "id": "1c622ae5",
   "metadata": {},
   "outputs": [
    {
     "data": {
      "text/plain": [
       "False"
      ]
     },
     "execution_count": 14,
     "metadata": {},
     "output_type": "execute_result"
    }
   ],
   "source": [
    "## delete file and confirm it no longer exits.\n",
    "os.remove(JSON_FILE)\n",
    "os.path.isfile(JSON_FILE)"
   ]
  },
  {
   "cell_type": "code",
   "execution_count": 15,
   "id": "669e681e",
   "metadata": {},
   "outputs": [],
   "source": [
    "def create_json_file(JSON_FILE,  delete_if_exists=False):\n",
    "    \n",
    "    ## Check if JSON_FILE exists\n",
    "    file_exists = os.path.isfile(JSON_FILE)\n",
    "    \n",
    "    ## If it DOES exist:\n",
    "    if file_exists == True:\n",
    "        \n",
    "        ## Check if user wants to delete if exists\n",
    "        if delete_if_exists==True:\n",
    "            \n",
    "            print(f\"[!] {JSON_FILE} already exists. Deleting previous file...\")\n",
    "            ## delete file and confirm it no longer exits.\n",
    "            os.remove(JSON_FILE)\n",
    "            ## Recursive call to function after old file deleted\n",
    "            create_json_file(JSON_FILE,delete_if_exists=False)\n",
    "        else:\n",
    "            print(f\"[i] {JSON_FILE} already exists.\")            \n",
    "            \n",
    "            \n",
    "    ## If it does NOT exist:\n",
    "    else:\n",
    "        \n",
    "        ## INFORM USER AND SAVE EMPTY LIST\n",
    "        print(f\"[i] {JSON_FILE} not found. Saving empty list to new file.\")\n",
    "        \n",
    "        ## CREATE ANY NEEDED FOLDERS\n",
    "        # Get the Folder Name only\n",
    "        folder = os.path.dirname(JSON_FILE)\n",
    "        \n",
    "        ## If JSON_FILE included a folder:\n",
    "        if len(folder)>0:\n",
    "            # create the folder\n",
    "            os.makedirs(folder,exist_ok=True)\n",
    "        ## Save empty list to start the json file\n",
    "        with open(JSON_FILE,'w') as f:\n",
    "            json.dump([],f)  "
   ]
  },
  {
   "cell_type": "code",
   "execution_count": 16,
   "id": "f5c48f3d",
   "metadata": {},
   "outputs": [
    {
     "name": "stdout",
     "output_type": "stream",
     "text": [
      "[i] /Users/miran/.secret/yelp_api.json not found. Saving empty list to new file.\n",
      "- 0 previous results found.\n"
     ]
    },
    {
     "data": {
      "text/plain": [
       "2"
      ]
     },
     "execution_count": 16,
     "metadata": {},
     "output_type": "execute_result"
    }
   ],
   "source": [
    "## Create a new empty json file (exist the previous if it exists)\n",
    "create_json_file(JSON_FILE, delete_if_exists=True)\n",
    "## Load previous results and use len of results for offset\n",
    "with open(JSON_FILE,'r') as f:\n",
    "    previous_results = json.load(f)\n",
    "    \n",
    "## set offset based on previous results\n",
    "n_results = len(previous_results)\n",
    "print(f'- {n_results} previous results found.')\n",
    "# use our yelp_api variable's search_query method to perform our API call\n",
    "results = yelp_api.search_query(location=LOCATION,\n",
    "                                term=TERM,\n",
    "                               offset=n_results)\n",
    "## How many results total?\n",
    "total_results = results['total']\n",
    "## How many did we get the details for?\n",
    "results_per_page = len(results['businesses'])\n",
    "# Use math.ceil to round up for the total number of pages of results.\n",
    "n_pages = math.ceil((results['total']-n_results)/ results_per_page)\n",
    "n_pages"
   ]
  },
  {
   "cell_type": "code",
   "execution_count": 17,
   "id": "d562d922",
   "metadata": {},
   "outputs": [
    {
     "data": {
      "application/vnd.jupyter.widget-view+json": {
       "model_id": "7402264f019f4f66b20667138e4c0173",
       "version_major": 2,
       "version_minor": 0
      },
      "text/plain": [
       "  0%|          | 0/2 [00:00<?, ?it/s]"
      ]
     },
     "metadata": {},
     "output_type": "display_data"
    }
   ],
   "source": [
    "for i in tqdm_notebook( range(1,n_pages+1)):\n",
    "    \n",
    "    ## Read in results in progress file and check the length\n",
    "    with open(JSON_FILE, 'r') as f:\n",
    "        previous_results = json.load(f)\n",
    "    ## save number of results for to use as offset\n",
    "    n_results = len(previous_results)\n",
    "    \n",
    "    if (n_results + results_per_page) > 1000:\n",
    "        print('Exceeded 1000 api calls. Stopping loop.')\n",
    "        break\n",
    "    \n",
    "    ## use n_results as the OFFSET \n",
    "    results = yelp_api.search_query(location=LOCATION,\n",
    "                                    term=TERM, \n",
    "                                    offset=n_results)\n",
    "    \n",
    "    \n",
    "    \n",
    "    ## append new results and save to file\n",
    "    previous_results.extend(results['businesses'])\n",
    "    \n",
    "    # display(previous_results)\n",
    "    with open(JSON_FILE,'w') as f:\n",
    "        json.dump(previous_results,f)\n",
    "    \n",
    "    time.sleep(.2)"
   ]
  },
  {
   "cell_type": "code",
   "execution_count": 18,
   "id": "1efad98b",
   "metadata": {},
   "outputs": [
    {
     "data": {
      "text/html": [
       "<div>\n",
       "<style scoped>\n",
       "    .dataframe tbody tr th:only-of-type {\n",
       "        vertical-align: middle;\n",
       "    }\n",
       "\n",
       "    .dataframe tbody tr th {\n",
       "        vertical-align: top;\n",
       "    }\n",
       "\n",
       "    .dataframe thead th {\n",
       "        text-align: right;\n",
       "    }\n",
       "</style>\n",
       "<table border=\"1\" class=\"dataframe\">\n",
       "  <thead>\n",
       "    <tr style=\"text-align: right;\">\n",
       "      <th></th>\n",
       "      <th>id</th>\n",
       "      <th>alias</th>\n",
       "      <th>name</th>\n",
       "      <th>image_url</th>\n",
       "      <th>is_closed</th>\n",
       "      <th>url</th>\n",
       "      <th>review_count</th>\n",
       "      <th>categories</th>\n",
       "      <th>rating</th>\n",
       "      <th>coordinates</th>\n",
       "      <th>transactions</th>\n",
       "      <th>location</th>\n",
       "      <th>phone</th>\n",
       "      <th>display_phone</th>\n",
       "      <th>distance</th>\n",
       "      <th>price</th>\n",
       "    </tr>\n",
       "  </thead>\n",
       "  <tbody>\n",
       "    <tr>\n",
       "      <th>0</th>\n",
       "      <td>k3Q_83BFa_4x419nU7dalQ</td>\n",
       "      <td>big-day-brewing-gorham</td>\n",
       "      <td>Big Day Brewing</td>\n",
       "      <td>https://s3-media2.fl.yelpcdn.com/bphoto/JbMs_Q...</td>\n",
       "      <td>False</td>\n",
       "      <td>https://www.yelp.com/biz/big-day-brewing-gorha...</td>\n",
       "      <td>31</td>\n",
       "      <td>[{'alias': 'tacos', 'title': 'Tacos'}, {'alias...</td>\n",
       "      <td>4.5</td>\n",
       "      <td>{'latitude': 44.38637450548805, 'longitude': -...</td>\n",
       "      <td>[]</td>\n",
       "      <td>{'address1': '20 Glen Rd', 'address2': '', 'ad...</td>\n",
       "      <td></td>\n",
       "      <td></td>\n",
       "      <td>1342.441076</td>\n",
       "      <td>NaN</td>\n",
       "    </tr>\n",
       "    <tr>\n",
       "      <th>1</th>\n",
       "      <td>uJedD6K0GqJwjfmeJ9v5NQ</td>\n",
       "      <td>public-house-eatery-gorham</td>\n",
       "      <td>Public House Eatery</td>\n",
       "      <td>https://s3-media2.fl.yelpcdn.com/bphoto/3BB9wU...</td>\n",
       "      <td>False</td>\n",
       "      <td>https://www.yelp.com/biz/public-house-eatery-g...</td>\n",
       "      <td>36</td>\n",
       "      <td>[{'alias': 'pizza', 'title': 'Pizza'}, {'alias...</td>\n",
       "      <td>4.5</td>\n",
       "      <td>{'latitude': 44.392689, 'longitude': -71.187861}</td>\n",
       "      <td>[]</td>\n",
       "      <td>{'address1': '245 Main St', 'address2': '', 'a...</td>\n",
       "      <td>+16039159209</td>\n",
       "      <td>(603) 915-9209</td>\n",
       "      <td>53.516141</td>\n",
       "      <td>NaN</td>\n",
       "    </tr>\n",
       "    <tr>\n",
       "      <th>2</th>\n",
       "      <td>VKZrv5wQXmREQDSw6v49Qw</td>\n",
       "      <td>nonnas-kitchen-gorham</td>\n",
       "      <td>Nonna's Kitchen</td>\n",
       "      <td>https://s3-media4.fl.yelpcdn.com/bphoto/RBzcom...</td>\n",
       "      <td>False</td>\n",
       "      <td>https://www.yelp.com/biz/nonnas-kitchen-gorham...</td>\n",
       "      <td>86</td>\n",
       "      <td>[{'alias': 'italian', 'title': 'Italian'}, {'a...</td>\n",
       "      <td>4.5</td>\n",
       "      <td>{'latitude': 44.38819, 'longitude': -71.17629}</td>\n",
       "      <td>[]</td>\n",
       "      <td>{'address1': '19 Exchange St', 'address2': Non...</td>\n",
       "      <td>+16039159203</td>\n",
       "      <td>(603) 915-9203</td>\n",
       "      <td>1001.196068</td>\n",
       "      <td>NaN</td>\n",
       "    </tr>\n",
       "    <tr>\n",
       "      <th>3</th>\n",
       "      <td>6elBFAGzM56ZGH7UDhamMw</td>\n",
       "      <td>js-corner-restaurant-and-lounge-gorham</td>\n",
       "      <td>J's Corner Restaurant &amp; Lounge</td>\n",
       "      <td>https://s3-media4.fl.yelpcdn.com/bphoto/fTPYKC...</td>\n",
       "      <td>False</td>\n",
       "      <td>https://www.yelp.com/biz/js-corner-restaurant-...</td>\n",
       "      <td>115</td>\n",
       "      <td>[{'alias': 'steak', 'title': 'Steakhouses'}, {...</td>\n",
       "      <td>4.0</td>\n",
       "      <td>{'latitude': 44.3940221, 'longitude': -71.1908...</td>\n",
       "      <td>[]</td>\n",
       "      <td>{'address1': '277 Main St', 'address2': '', 'a...</td>\n",
       "      <td>+16034665132</td>\n",
       "      <td>(603) 466-5132</td>\n",
       "      <td>276.145276</td>\n",
       "      <td>$$</td>\n",
       "    </tr>\n",
       "    <tr>\n",
       "      <th>4</th>\n",
       "      <td>vhPLfjJbRjwply6e2JUyZQ</td>\n",
       "      <td>road-hawg-bbq-swine-dining-gorham</td>\n",
       "      <td>Road Hawg BBQ Swine Dining</td>\n",
       "      <td>https://s3-media4.fl.yelpcdn.com/bphoto/6GLjDZ...</td>\n",
       "      <td>False</td>\n",
       "      <td>https://www.yelp.com/biz/road-hawg-bbq-swine-d...</td>\n",
       "      <td>96</td>\n",
       "      <td>[{'alias': 'foodtrucks', 'title': 'Food Trucks...</td>\n",
       "      <td>4.0</td>\n",
       "      <td>{'latitude': 44.391285, 'longitude': -71.185014}</td>\n",
       "      <td>[]</td>\n",
       "      <td>{'address1': '195 Main St', 'address2': '', 'a...</td>\n",
       "      <td>+16039159242</td>\n",
       "      <td>(603) 915-9242</td>\n",
       "      <td>247.307339</td>\n",
       "      <td>$$</td>\n",
       "    </tr>\n",
       "  </tbody>\n",
       "</table>\n",
       "</div>"
      ],
      "text/plain": [
       "                       id                                   alias  \\\n",
       "0  k3Q_83BFa_4x419nU7dalQ                  big-day-brewing-gorham   \n",
       "1  uJedD6K0GqJwjfmeJ9v5NQ              public-house-eatery-gorham   \n",
       "2  VKZrv5wQXmREQDSw6v49Qw                   nonnas-kitchen-gorham   \n",
       "3  6elBFAGzM56ZGH7UDhamMw  js-corner-restaurant-and-lounge-gorham   \n",
       "4  vhPLfjJbRjwply6e2JUyZQ       road-hawg-bbq-swine-dining-gorham   \n",
       "\n",
       "                             name  \\\n",
       "0                 Big Day Brewing   \n",
       "1             Public House Eatery   \n",
       "2                 Nonna's Kitchen   \n",
       "3  J's Corner Restaurant & Lounge   \n",
       "4      Road Hawg BBQ Swine Dining   \n",
       "\n",
       "                                           image_url  is_closed  \\\n",
       "0  https://s3-media2.fl.yelpcdn.com/bphoto/JbMs_Q...      False   \n",
       "1  https://s3-media2.fl.yelpcdn.com/bphoto/3BB9wU...      False   \n",
       "2  https://s3-media4.fl.yelpcdn.com/bphoto/RBzcom...      False   \n",
       "3  https://s3-media4.fl.yelpcdn.com/bphoto/fTPYKC...      False   \n",
       "4  https://s3-media4.fl.yelpcdn.com/bphoto/6GLjDZ...      False   \n",
       "\n",
       "                                                 url  review_count  \\\n",
       "0  https://www.yelp.com/biz/big-day-brewing-gorha...            31   \n",
       "1  https://www.yelp.com/biz/public-house-eatery-g...            36   \n",
       "2  https://www.yelp.com/biz/nonnas-kitchen-gorham...            86   \n",
       "3  https://www.yelp.com/biz/js-corner-restaurant-...           115   \n",
       "4  https://www.yelp.com/biz/road-hawg-bbq-swine-d...            96   \n",
       "\n",
       "                                          categories  rating  \\\n",
       "0  [{'alias': 'tacos', 'title': 'Tacos'}, {'alias...     4.5   \n",
       "1  [{'alias': 'pizza', 'title': 'Pizza'}, {'alias...     4.5   \n",
       "2  [{'alias': 'italian', 'title': 'Italian'}, {'a...     4.5   \n",
       "3  [{'alias': 'steak', 'title': 'Steakhouses'}, {...     4.0   \n",
       "4  [{'alias': 'foodtrucks', 'title': 'Food Trucks...     4.0   \n",
       "\n",
       "                                         coordinates transactions  \\\n",
       "0  {'latitude': 44.38637450548805, 'longitude': -...           []   \n",
       "1   {'latitude': 44.392689, 'longitude': -71.187861}           []   \n",
       "2     {'latitude': 44.38819, 'longitude': -71.17629}           []   \n",
       "3  {'latitude': 44.3940221, 'longitude': -71.1908...           []   \n",
       "4   {'latitude': 44.391285, 'longitude': -71.185014}           []   \n",
       "\n",
       "                                            location         phone  \\\n",
       "0  {'address1': '20 Glen Rd', 'address2': '', 'ad...                 \n",
       "1  {'address1': '245 Main St', 'address2': '', 'a...  +16039159209   \n",
       "2  {'address1': '19 Exchange St', 'address2': Non...  +16039159203   \n",
       "3  {'address1': '277 Main St', 'address2': '', 'a...  +16034665132   \n",
       "4  {'address1': '195 Main St', 'address2': '', 'a...  +16039159242   \n",
       "\n",
       "    display_phone     distance price  \n",
       "0                  1342.441076   NaN  \n",
       "1  (603) 915-9209    53.516141   NaN  \n",
       "2  (603) 915-9203  1001.196068   NaN  \n",
       "3  (603) 466-5132   276.145276    $$  \n",
       "4  (603) 915-9242   247.307339    $$  "
      ]
     },
     "metadata": {},
     "output_type": "display_data"
    },
    {
     "data": {
      "text/html": [
       "<div>\n",
       "<style scoped>\n",
       "    .dataframe tbody tr th:only-of-type {\n",
       "        vertical-align: middle;\n",
       "    }\n",
       "\n",
       "    .dataframe tbody tr th {\n",
       "        vertical-align: top;\n",
       "    }\n",
       "\n",
       "    .dataframe thead th {\n",
       "        text-align: right;\n",
       "    }\n",
       "</style>\n",
       "<table border=\"1\" class=\"dataframe\">\n",
       "  <thead>\n",
       "    <tr style=\"text-align: right;\">\n",
       "      <th></th>\n",
       "      <th>id</th>\n",
       "      <th>alias</th>\n",
       "      <th>name</th>\n",
       "      <th>image_url</th>\n",
       "      <th>is_closed</th>\n",
       "      <th>url</th>\n",
       "      <th>review_count</th>\n",
       "      <th>categories</th>\n",
       "      <th>rating</th>\n",
       "      <th>coordinates</th>\n",
       "      <th>transactions</th>\n",
       "      <th>location</th>\n",
       "      <th>phone</th>\n",
       "      <th>display_phone</th>\n",
       "      <th>distance</th>\n",
       "      <th>price</th>\n",
       "    </tr>\n",
       "  </thead>\n",
       "  <tbody>\n",
       "    <tr>\n",
       "      <th>17</th>\n",
       "      <td>OqPkIGlNOK7_Drv_LzgEdg</td>\n",
       "      <td>subway-gorham-3</td>\n",
       "      <td>Subway</td>\n",
       "      <td>https://s3-media3.fl.yelpcdn.com/bphoto/poUByq...</td>\n",
       "      <td>False</td>\n",
       "      <td>https://www.yelp.com/biz/subway-gorham-3?adjus...</td>\n",
       "      <td>7</td>\n",
       "      <td>[{'alias': 'sandwiches', 'title': 'Sandwiches'...</td>\n",
       "      <td>1.5</td>\n",
       "      <td>{'latitude': 44.3885439839016, 'longitude': -7...</td>\n",
       "      <td>[]</td>\n",
       "      <td>{'address1': '66 Main St', 'address2': 'Ste 1'...</td>\n",
       "      <td>+16034665200</td>\n",
       "      <td>(603) 466-5200</td>\n",
       "      <td>1160.535224</td>\n",
       "      <td>$</td>\n",
       "    </tr>\n",
       "    <tr>\n",
       "      <th>18</th>\n",
       "      <td>MRPyHJRB3TswDxqkBcwZFA</td>\n",
       "      <td>berlin-marketplace-berlin</td>\n",
       "      <td>Berlin Marketplace</td>\n",
       "      <td></td>\n",
       "      <td>False</td>\n",
       "      <td>https://www.yelp.com/biz/berlin-marketplace-be...</td>\n",
       "      <td>3</td>\n",
       "      <td>[{'alias': 'grocery', 'title': 'Grocery'}]</td>\n",
       "      <td>4.0</td>\n",
       "      <td>{'latitude': 44.46584, 'longitude': -71.18595}</td>\n",
       "      <td>[]</td>\n",
       "      <td>{'address1': '19 Pleasant St', 'address2': '',...</td>\n",
       "      <td>+16037521050</td>\n",
       "      <td>(603) 752-1050</td>\n",
       "      <td>8137.844478</td>\n",
       "      <td>$$</td>\n",
       "    </tr>\n",
       "    <tr>\n",
       "      <th>19</th>\n",
       "      <td>8dNZy2CZ_GSWw2WOveKPZg</td>\n",
       "      <td>cumberland-farms-gorham-3</td>\n",
       "      <td>Cumberland Farms</td>\n",
       "      <td>https://s3-media1.fl.yelpcdn.com/bphoto/WQ0afj...</td>\n",
       "      <td>False</td>\n",
       "      <td>https://www.yelp.com/biz/cumberland-farms-gorh...</td>\n",
       "      <td>5</td>\n",
       "      <td>[{'alias': 'convenience', 'title': 'Convenienc...</td>\n",
       "      <td>4.0</td>\n",
       "      <td>{'latitude': 44.388512, 'longitude': -71.173044}</td>\n",
       "      <td>[]</td>\n",
       "      <td>{'address1': '60 Main St', 'address2': '', 'ad...</td>\n",
       "      <td>+16034662157</td>\n",
       "      <td>(603) 466-2157</td>\n",
       "      <td>1228.597200</td>\n",
       "      <td>$</td>\n",
       "    </tr>\n",
       "    <tr>\n",
       "      <th>20</th>\n",
       "      <td>UIcvkRNMKmvEprf37RTxnQ</td>\n",
       "      <td>dunkin-gorham-2</td>\n",
       "      <td>Dunkin'</td>\n",
       "      <td>https://s3-media2.fl.yelpcdn.com/bphoto/YRRhNf...</td>\n",
       "      <td>False</td>\n",
       "      <td>https://www.yelp.com/biz/dunkin-gorham-2?adjus...</td>\n",
       "      <td>13</td>\n",
       "      <td>[{'alias': 'donuts', 'title': 'Donuts'}, {'ali...</td>\n",
       "      <td>1.5</td>\n",
       "      <td>{'latitude': 44.39119677992125, 'longitude': -...</td>\n",
       "      <td>[]</td>\n",
       "      <td>{'address1': '191 Main St', 'address2': '', 'a...</td>\n",
       "      <td>+16034662979</td>\n",
       "      <td>(603) 466-2979</td>\n",
       "      <td>282.482354</td>\n",
       "      <td>$</td>\n",
       "    </tr>\n",
       "    <tr>\n",
       "      <th>21</th>\n",
       "      <td>pGWUkDvukwgWGGgZTs0FOA</td>\n",
       "      <td>circle-k-gorham</td>\n",
       "      <td>Circle K</td>\n",
       "      <td>https://s3-media4.fl.yelpcdn.com/bphoto/HigsHJ...</td>\n",
       "      <td>False</td>\n",
       "      <td>https://www.yelp.com/biz/circle-k-gorham?adjus...</td>\n",
       "      <td>1</td>\n",
       "      <td>[{'alias': 'convenience', 'title': 'Convenienc...</td>\n",
       "      <td>1.0</td>\n",
       "      <td>{'latitude': 44.3964885, 'longitude': -71.1940...</td>\n",
       "      <td>[]</td>\n",
       "      <td>{'address1': '350 Main St', 'address2': '', 'a...</td>\n",
       "      <td>+16034662178</td>\n",
       "      <td>(603) 466-2178</td>\n",
       "      <td>701.030839</td>\n",
       "      <td>NaN</td>\n",
       "    </tr>\n",
       "  </tbody>\n",
       "</table>\n",
       "</div>"
      ],
      "text/plain": [
       "                        id                      alias                name  \\\n",
       "17  OqPkIGlNOK7_Drv_LzgEdg            subway-gorham-3              Subway   \n",
       "18  MRPyHJRB3TswDxqkBcwZFA  berlin-marketplace-berlin  Berlin Marketplace   \n",
       "19  8dNZy2CZ_GSWw2WOveKPZg  cumberland-farms-gorham-3    Cumberland Farms   \n",
       "20  UIcvkRNMKmvEprf37RTxnQ            dunkin-gorham-2             Dunkin'   \n",
       "21  pGWUkDvukwgWGGgZTs0FOA            circle-k-gorham            Circle K   \n",
       "\n",
       "                                            image_url  is_closed  \\\n",
       "17  https://s3-media3.fl.yelpcdn.com/bphoto/poUByq...      False   \n",
       "18                                                         False   \n",
       "19  https://s3-media1.fl.yelpcdn.com/bphoto/WQ0afj...      False   \n",
       "20  https://s3-media2.fl.yelpcdn.com/bphoto/YRRhNf...      False   \n",
       "21  https://s3-media4.fl.yelpcdn.com/bphoto/HigsHJ...      False   \n",
       "\n",
       "                                                  url  review_count  \\\n",
       "17  https://www.yelp.com/biz/subway-gorham-3?adjus...             7   \n",
       "18  https://www.yelp.com/biz/berlin-marketplace-be...             3   \n",
       "19  https://www.yelp.com/biz/cumberland-farms-gorh...             5   \n",
       "20  https://www.yelp.com/biz/dunkin-gorham-2?adjus...            13   \n",
       "21  https://www.yelp.com/biz/circle-k-gorham?adjus...             1   \n",
       "\n",
       "                                           categories  rating  \\\n",
       "17  [{'alias': 'sandwiches', 'title': 'Sandwiches'...     1.5   \n",
       "18         [{'alias': 'grocery', 'title': 'Grocery'}]     4.0   \n",
       "19  [{'alias': 'convenience', 'title': 'Convenienc...     4.0   \n",
       "20  [{'alias': 'donuts', 'title': 'Donuts'}, {'ali...     1.5   \n",
       "21  [{'alias': 'convenience', 'title': 'Convenienc...     1.0   \n",
       "\n",
       "                                          coordinates transactions  \\\n",
       "17  {'latitude': 44.3885439839016, 'longitude': -7...           []   \n",
       "18     {'latitude': 44.46584, 'longitude': -71.18595}           []   \n",
       "19   {'latitude': 44.388512, 'longitude': -71.173044}           []   \n",
       "20  {'latitude': 44.39119677992125, 'longitude': -...           []   \n",
       "21  {'latitude': 44.3964885, 'longitude': -71.1940...           []   \n",
       "\n",
       "                                             location         phone  \\\n",
       "17  {'address1': '66 Main St', 'address2': 'Ste 1'...  +16034665200   \n",
       "18  {'address1': '19 Pleasant St', 'address2': '',...  +16037521050   \n",
       "19  {'address1': '60 Main St', 'address2': '', 'ad...  +16034662157   \n",
       "20  {'address1': '191 Main St', 'address2': '', 'a...  +16034662979   \n",
       "21  {'address1': '350 Main St', 'address2': '', 'a...  +16034662178   \n",
       "\n",
       "     display_phone     distance price  \n",
       "17  (603) 466-5200  1160.535224     $  \n",
       "18  (603) 752-1050  8137.844478    $$  \n",
       "19  (603) 466-2157  1228.597200     $  \n",
       "20  (603) 466-2979   282.482354     $  \n",
       "21  (603) 466-2178   701.030839   NaN  "
      ]
     },
     "metadata": {},
     "output_type": "display_data"
    }
   ],
   "source": [
    "# load final results\n",
    "final_df = pd.read_json(JSON_FILE)\n",
    "display(final_df.head(), final_df.tail())"
   ]
  },
  {
   "cell_type": "code",
   "execution_count": 19,
   "id": "ee597006",
   "metadata": {},
   "outputs": [
    {
     "data": {
      "text/plain": [
       "0"
      ]
     },
     "execution_count": 19,
     "metadata": {},
     "output_type": "execute_result"
    }
   ],
   "source": [
    "# check for duplicate ID's \n",
    "final_df.duplicated(subset='id').sum()"
   ]
  },
  {
   "cell_type": "code",
   "execution_count": 20,
   "id": "75f1d097",
   "metadata": {},
   "outputs": [],
   "source": [
    "# save the final results to a compressed csv\n",
    "final_df.to_csv('Data/final_results_nh_food.csv.gz', compression='gzip',index=False)"
   ]
  }
 ],
 "metadata": {
  "kernelspec": {
   "display_name": "Python (dojo-env)",
   "language": "python",
   "name": "dojo-env"
  },
  "language_info": {
   "codemirror_mode": {
    "name": "ipython",
    "version": 3
   },
   "file_extension": ".py",
   "mimetype": "text/x-python",
   "name": "python",
   "nbconvert_exporter": "python",
   "pygments_lexer": "ipython3",
   "version": "3.9.15"
  },
  "toc": {
   "base_numbering": 1,
   "nav_menu": {},
   "number_sections": false,
   "sideBar": true,
   "skip_h1_title": false,
   "title_cell": "Table of Contents",
   "title_sidebar": "Contents",
   "toc_cell": false,
   "toc_position": {},
   "toc_section_display": true,
   "toc_window_display": false
  }
 },
 "nbformat": 4,
 "nbformat_minor": 5
}
