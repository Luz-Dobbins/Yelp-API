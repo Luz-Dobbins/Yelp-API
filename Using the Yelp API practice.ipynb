{
 "cells": [
  {
   "cell_type": "code",
   "execution_count": 1,
   "id": "6e4d7051",
   "metadata": {},
   "outputs": [
    {
     "data": {
      "text/plain": [
       "dict"
      ]
     },
     "execution_count": 1,
     "metadata": {},
     "output_type": "execute_result"
    }
   ],
   "source": [
    "import pandas as pd\n",
    "import json\n",
    "with open('/Users/miran/.secret/yelp_api.json') as f: #change the path to match YOUR path!!\n",
    "    json_file = json.load(f)\n",
    "type(json_file)"
   ]
  },
  {
   "cell_type": "code",
   "execution_count": 2,
   "id": "e0eb075b",
   "metadata": {},
   "outputs": [
    {
     "data": {
      "text/plain": [
       "<yelpapi.yelpapi.YelpAPI at 0x239e5940f10>"
      ]
     },
     "execution_count": 2,
     "metadata": {},
     "output_type": "execute_result"
    }
   ],
   "source": [
    "from yelpapi import YelpAPI\n",
    "yelp_api = YelpAPI(json_file['api-key'], timeout_s=5.0)\n",
    "yelp_api"
   ]
  },
  {
   "cell_type": "code",
   "execution_count": 3,
   "id": "9f279e7f",
   "metadata": {},
   "outputs": [
    {
     "data": {
      "text/plain": [
       "dict_keys(['client-id', 'api-key'])"
      ]
     },
     "execution_count": 3,
     "metadata": {},
     "output_type": "execute_result"
    }
   ],
   "source": [
    "json_file.keys()"
   ]
  },
  {
   "cell_type": "code",
   "execution_count": 4,
   "id": "35a27c1d",
   "metadata": {},
   "outputs": [
    {
     "name": "stdout",
     "output_type": "stream",
     "text": [
      "<class 'dict'>\n"
     ]
    },
    {
     "data": {
      "text/plain": [
       "dict_keys(['businesses', 'total', 'region'])"
      ]
     },
     "execution_count": 4,
     "metadata": {},
     "output_type": "execute_result"
    }
   ],
   "source": [
    "# Quick Test Query\n",
    "results = yelp_api.search_query(location='Gorham, NH',\n",
    "                                       term='food')\n",
    "print(type(results))\n",
    "results.keys()"
   ]
  },
  {
   "cell_type": "code",
   "execution_count": 5,
   "id": "548ff7ff",
   "metadata": {},
   "outputs": [
    {
     "data": {
      "text/plain": [
       "22"
      ]
     },
     "execution_count": 5,
     "metadata": {},
     "output_type": "execute_result"
    }
   ],
   "source": [
    "results['total']"
   ]
  },
  {
   "cell_type": "code",
   "execution_count": 6,
   "id": "8513f4eb",
   "metadata": {},
   "outputs": [
    {
     "data": {
      "text/html": [
       "<div>\n",
       "<style scoped>\n",
       "    .dataframe tbody tr th:only-of-type {\n",
       "        vertical-align: middle;\n",
       "    }\n",
       "\n",
       "    .dataframe tbody tr th {\n",
       "        vertical-align: top;\n",
       "    }\n",
       "\n",
       "    .dataframe thead th {\n",
       "        text-align: right;\n",
       "    }\n",
       "</style>\n",
       "<table border=\"1\" class=\"dataframe\">\n",
       "  <thead>\n",
       "    <tr style=\"text-align: right;\">\n",
       "      <th></th>\n",
       "      <th>id</th>\n",
       "      <th>alias</th>\n",
       "      <th>name</th>\n",
       "      <th>image_url</th>\n",
       "      <th>is_closed</th>\n",
       "      <th>url</th>\n",
       "      <th>review_count</th>\n",
       "      <th>categories</th>\n",
       "      <th>rating</th>\n",
       "      <th>coordinates</th>\n",
       "      <th>transactions</th>\n",
       "      <th>location</th>\n",
       "      <th>phone</th>\n",
       "      <th>display_phone</th>\n",
       "      <th>distance</th>\n",
       "      <th>price</th>\n",
       "    </tr>\n",
       "  </thead>\n",
       "  <tbody>\n",
       "    <tr>\n",
       "      <th>0</th>\n",
       "      <td>k3Q_83BFa_4x419nU7dalQ</td>\n",
       "      <td>big-day-brewing-gorham</td>\n",
       "      <td>Big Day Brewing</td>\n",
       "      <td>https://s3-media2.fl.yelpcdn.com/bphoto/JbMs_Q...</td>\n",
       "      <td>False</td>\n",
       "      <td>https://www.yelp.com/biz/big-day-brewing-gorha...</td>\n",
       "      <td>31</td>\n",
       "      <td>[{'alias': 'tacos', 'title': 'Tacos'}, {'alias...</td>\n",
       "      <td>4.5</td>\n",
       "      <td>{'latitude': 44.38637450548805, 'longitude': -...</td>\n",
       "      <td>[]</td>\n",
       "      <td>{'address1': '20 Glen Rd', 'address2': '', 'ad...</td>\n",
       "      <td></td>\n",
       "      <td></td>\n",
       "      <td>1342.441076</td>\n",
       "      <td>NaN</td>\n",
       "    </tr>\n",
       "    <tr>\n",
       "      <th>1</th>\n",
       "      <td>VKZrv5wQXmREQDSw6v49Qw</td>\n",
       "      <td>nonnas-kitchen-gorham</td>\n",
       "      <td>Nonna's Kitchen</td>\n",
       "      <td>https://s3-media4.fl.yelpcdn.com/bphoto/RBzcom...</td>\n",
       "      <td>False</td>\n",
       "      <td>https://www.yelp.com/biz/nonnas-kitchen-gorham...</td>\n",
       "      <td>86</td>\n",
       "      <td>[{'alias': 'italian', 'title': 'Italian'}, {'a...</td>\n",
       "      <td>4.5</td>\n",
       "      <td>{'latitude': 44.38819, 'longitude': -71.17629}</td>\n",
       "      <td>[]</td>\n",
       "      <td>{'address1': '19 Exchange St', 'address2': Non...</td>\n",
       "      <td>+16039159203</td>\n",
       "      <td>(603) 915-9203</td>\n",
       "      <td>1001.196068</td>\n",
       "      <td>NaN</td>\n",
       "    </tr>\n",
       "    <tr>\n",
       "      <th>2</th>\n",
       "      <td>6elBFAGzM56ZGH7UDhamMw</td>\n",
       "      <td>js-corner-restaurant-and-lounge-gorham</td>\n",
       "      <td>J's Corner Restaurant &amp; Lounge</td>\n",
       "      <td>https://s3-media4.fl.yelpcdn.com/bphoto/fTPYKC...</td>\n",
       "      <td>False</td>\n",
       "      <td>https://www.yelp.com/biz/js-corner-restaurant-...</td>\n",
       "      <td>115</td>\n",
       "      <td>[{'alias': 'steak', 'title': 'Steakhouses'}, {...</td>\n",
       "      <td>4.0</td>\n",
       "      <td>{'latitude': 44.3940221, 'longitude': -71.1908...</td>\n",
       "      <td>[]</td>\n",
       "      <td>{'address1': '277 Main St', 'address2': '', 'a...</td>\n",
       "      <td>+16034665132</td>\n",
       "      <td>(603) 466-5132</td>\n",
       "      <td>276.145276</td>\n",
       "      <td>$$</td>\n",
       "    </tr>\n",
       "    <tr>\n",
       "      <th>3</th>\n",
       "      <td>vhPLfjJbRjwply6e2JUyZQ</td>\n",
       "      <td>road-hawg-bbq-swine-dining-gorham</td>\n",
       "      <td>Road Hawg BBQ Swine Dining</td>\n",
       "      <td>https://s3-media4.fl.yelpcdn.com/bphoto/6GLjDZ...</td>\n",
       "      <td>False</td>\n",
       "      <td>https://www.yelp.com/biz/road-hawg-bbq-swine-d...</td>\n",
       "      <td>96</td>\n",
       "      <td>[{'alias': 'foodtrucks', 'title': 'Food Trucks...</td>\n",
       "      <td>4.0</td>\n",
       "      <td>{'latitude': 44.391285, 'longitude': -71.185014}</td>\n",
       "      <td>[]</td>\n",
       "      <td>{'address1': '195 Main St', 'address2': '', 'a...</td>\n",
       "      <td>+16039159242</td>\n",
       "      <td>(603) 915-9242</td>\n",
       "      <td>247.307339</td>\n",
       "      <td>$$</td>\n",
       "    </tr>\n",
       "    <tr>\n",
       "      <th>4</th>\n",
       "      <td>uJedD6K0GqJwjfmeJ9v5NQ</td>\n",
       "      <td>public-house-eatery-gorham</td>\n",
       "      <td>Public House Eatery</td>\n",
       "      <td>https://s3-media2.fl.yelpcdn.com/bphoto/3BB9wU...</td>\n",
       "      <td>False</td>\n",
       "      <td>https://www.yelp.com/biz/public-house-eatery-g...</td>\n",
       "      <td>36</td>\n",
       "      <td>[{'alias': 'pizza', 'title': 'Pizza'}, {'alias...</td>\n",
       "      <td>4.5</td>\n",
       "      <td>{'latitude': 44.392689, 'longitude': -71.187861}</td>\n",
       "      <td>[]</td>\n",
       "      <td>{'address1': '245 Main St', 'address2': '', 'a...</td>\n",
       "      <td>+16039159209</td>\n",
       "      <td>(603) 915-9209</td>\n",
       "      <td>53.516141</td>\n",
       "      <td>NaN</td>\n",
       "    </tr>\n",
       "  </tbody>\n",
       "</table>\n",
       "</div>"
      ],
      "text/plain": [
       "                       id                                   alias  \\\n",
       "0  k3Q_83BFa_4x419nU7dalQ                  big-day-brewing-gorham   \n",
       "1  VKZrv5wQXmREQDSw6v49Qw                   nonnas-kitchen-gorham   \n",
       "2  6elBFAGzM56ZGH7UDhamMw  js-corner-restaurant-and-lounge-gorham   \n",
       "3  vhPLfjJbRjwply6e2JUyZQ       road-hawg-bbq-swine-dining-gorham   \n",
       "4  uJedD6K0GqJwjfmeJ9v5NQ              public-house-eatery-gorham   \n",
       "\n",
       "                             name  \\\n",
       "0                 Big Day Brewing   \n",
       "1                 Nonna's Kitchen   \n",
       "2  J's Corner Restaurant & Lounge   \n",
       "3      Road Hawg BBQ Swine Dining   \n",
       "4             Public House Eatery   \n",
       "\n",
       "                                           image_url  is_closed  \\\n",
       "0  https://s3-media2.fl.yelpcdn.com/bphoto/JbMs_Q...      False   \n",
       "1  https://s3-media4.fl.yelpcdn.com/bphoto/RBzcom...      False   \n",
       "2  https://s3-media4.fl.yelpcdn.com/bphoto/fTPYKC...      False   \n",
       "3  https://s3-media4.fl.yelpcdn.com/bphoto/6GLjDZ...      False   \n",
       "4  https://s3-media2.fl.yelpcdn.com/bphoto/3BB9wU...      False   \n",
       "\n",
       "                                                 url  review_count  \\\n",
       "0  https://www.yelp.com/biz/big-day-brewing-gorha...            31   \n",
       "1  https://www.yelp.com/biz/nonnas-kitchen-gorham...            86   \n",
       "2  https://www.yelp.com/biz/js-corner-restaurant-...           115   \n",
       "3  https://www.yelp.com/biz/road-hawg-bbq-swine-d...            96   \n",
       "4  https://www.yelp.com/biz/public-house-eatery-g...            36   \n",
       "\n",
       "                                          categories  rating  \\\n",
       "0  [{'alias': 'tacos', 'title': 'Tacos'}, {'alias...     4.5   \n",
       "1  [{'alias': 'italian', 'title': 'Italian'}, {'a...     4.5   \n",
       "2  [{'alias': 'steak', 'title': 'Steakhouses'}, {...     4.0   \n",
       "3  [{'alias': 'foodtrucks', 'title': 'Food Trucks...     4.0   \n",
       "4  [{'alias': 'pizza', 'title': 'Pizza'}, {'alias...     4.5   \n",
       "\n",
       "                                         coordinates transactions  \\\n",
       "0  {'latitude': 44.38637450548805, 'longitude': -...           []   \n",
       "1     {'latitude': 44.38819, 'longitude': -71.17629}           []   \n",
       "2  {'latitude': 44.3940221, 'longitude': -71.1908...           []   \n",
       "3   {'latitude': 44.391285, 'longitude': -71.185014}           []   \n",
       "4   {'latitude': 44.392689, 'longitude': -71.187861}           []   \n",
       "\n",
       "                                            location         phone  \\\n",
       "0  {'address1': '20 Glen Rd', 'address2': '', 'ad...                 \n",
       "1  {'address1': '19 Exchange St', 'address2': Non...  +16039159203   \n",
       "2  {'address1': '277 Main St', 'address2': '', 'a...  +16034665132   \n",
       "3  {'address1': '195 Main St', 'address2': '', 'a...  +16039159242   \n",
       "4  {'address1': '245 Main St', 'address2': '', 'a...  +16039159209   \n",
       "\n",
       "    display_phone     distance price  \n",
       "0                  1342.441076   NaN  \n",
       "1  (603) 915-9203  1001.196068   NaN  \n",
       "2  (603) 466-5132   276.145276    $$  \n",
       "3  (603) 915-9242   247.307339    $$  \n",
       "4  (603) 915-9209    53.516141   NaN  "
      ]
     },
     "execution_count": 6,
     "metadata": {},
     "output_type": "execute_result"
    }
   ],
   "source": [
    "import pandas as pd\n",
    "df = pd.DataFrame(results['businesses'])\n",
    "df.head()"
   ]
  },
  {
   "cell_type": "code",
   "execution_count": 7,
   "id": "e9278fe7",
   "metadata": {},
   "outputs": [
    {
     "data": {
      "text/plain": [
       "22"
      ]
     },
     "execution_count": 7,
     "metadata": {},
     "output_type": "execute_result"
    }
   ],
   "source": [
    "results['total']"
   ]
  },
  {
   "cell_type": "code",
   "execution_count": 8,
   "id": "84165eb1",
   "metadata": {},
   "outputs": [
    {
     "data": {
      "text/plain": [
       "20"
      ]
     },
     "execution_count": 8,
     "metadata": {},
     "output_type": "execute_result"
    }
   ],
   "source": [
    "len(results['businesses'])"
   ]
  },
  {
   "cell_type": "code",
   "execution_count": 9,
   "id": "38f9e2ea",
   "metadata": {},
   "outputs": [],
   "source": [
    "# add offset to our original api call\n",
    "search_results = yelp_api.search_query(location='Graham, NC',\n",
    "                                       term='food',\n",
    "                                       offset = 20)"
   ]
  },
  {
   "cell_type": "code",
   "execution_count": 10,
   "id": "2ae81ffa",
   "metadata": {},
   "outputs": [
    {
     "data": {
      "text/html": [
       "<div>\n",
       "<style scoped>\n",
       "    .dataframe tbody tr th:only-of-type {\n",
       "        vertical-align: middle;\n",
       "    }\n",
       "\n",
       "    .dataframe tbody tr th {\n",
       "        vertical-align: top;\n",
       "    }\n",
       "\n",
       "    .dataframe thead th {\n",
       "        text-align: right;\n",
       "    }\n",
       "</style>\n",
       "<table border=\"1\" class=\"dataframe\">\n",
       "  <thead>\n",
       "    <tr style=\"text-align: right;\">\n",
       "      <th></th>\n",
       "      <th>id</th>\n",
       "      <th>alias</th>\n",
       "      <th>name</th>\n",
       "      <th>image_url</th>\n",
       "      <th>is_closed</th>\n",
       "      <th>url</th>\n",
       "      <th>review_count</th>\n",
       "      <th>categories</th>\n",
       "      <th>rating</th>\n",
       "      <th>coordinates</th>\n",
       "      <th>transactions</th>\n",
       "      <th>price</th>\n",
       "      <th>location</th>\n",
       "      <th>phone</th>\n",
       "      <th>display_phone</th>\n",
       "      <th>distance</th>\n",
       "    </tr>\n",
       "  </thead>\n",
       "  <tbody>\n",
       "    <tr>\n",
       "      <th>0</th>\n",
       "      <td>wZtLnGAbFbXjSdiWyno3Pg</td>\n",
       "      <td>bright-penny-brewing-mebane</td>\n",
       "      <td>Bright Penny Brewing</td>\n",
       "      <td>https://s3-media4.fl.yelpcdn.com/bphoto/y3kJ1v...</td>\n",
       "      <td>False</td>\n",
       "      <td>https://www.yelp.com/biz/bright-penny-brewing-...</td>\n",
       "      <td>62</td>\n",
       "      <td>[{'alias': 'breweries', 'title': 'Breweries'}]</td>\n",
       "      <td>4.5</td>\n",
       "      <td>{'latitude': 36.09564, 'longitude': -79.2637}</td>\n",
       "      <td>[]</td>\n",
       "      <td>$$</td>\n",
       "      <td>{'address1': '107 N 7th St', 'address2': '', '...</td>\n",
       "      <td>+19195689415</td>\n",
       "      <td>(919) 568-9415</td>\n",
       "      <td>11486.423858</td>\n",
       "    </tr>\n",
       "    <tr>\n",
       "      <th>1</th>\n",
       "      <td>PlpTEpfoyKINdM4DPUS8xg</td>\n",
       "      <td>el-palmar-mexican-restaurant-graham</td>\n",
       "      <td>El Palmar Mexican Restaurant</td>\n",
       "      <td>https://s3-media1.fl.yelpcdn.com/bphoto/UiEtA6...</td>\n",
       "      <td>False</td>\n",
       "      <td>https://www.yelp.com/biz/el-palmar-mexican-res...</td>\n",
       "      <td>27</td>\n",
       "      <td>[{'alias': 'mexican', 'title': 'Mexican'}, {'a...</td>\n",
       "      <td>4.5</td>\n",
       "      <td>{'latitude': 36.07109, 'longitude': -79.40254}</td>\n",
       "      <td>[delivery]</td>\n",
       "      <td>$$</td>\n",
       "      <td>{'address1': '203 W Harden St', 'address2': ''...</td>\n",
       "      <td>+13362269050</td>\n",
       "      <td>(336) 226-9050</td>\n",
       "      <td>2920.973132</td>\n",
       "    </tr>\n",
       "  </tbody>\n",
       "</table>\n",
       "</div>"
      ],
      "text/plain": [
       "                       id                                alias  \\\n",
       "0  wZtLnGAbFbXjSdiWyno3Pg          bright-penny-brewing-mebane   \n",
       "1  PlpTEpfoyKINdM4DPUS8xg  el-palmar-mexican-restaurant-graham   \n",
       "\n",
       "                           name  \\\n",
       "0          Bright Penny Brewing   \n",
       "1  El Palmar Mexican Restaurant   \n",
       "\n",
       "                                           image_url  is_closed  \\\n",
       "0  https://s3-media4.fl.yelpcdn.com/bphoto/y3kJ1v...      False   \n",
       "1  https://s3-media1.fl.yelpcdn.com/bphoto/UiEtA6...      False   \n",
       "\n",
       "                                                 url  review_count  \\\n",
       "0  https://www.yelp.com/biz/bright-penny-brewing-...            62   \n",
       "1  https://www.yelp.com/biz/el-palmar-mexican-res...            27   \n",
       "\n",
       "                                          categories  rating  \\\n",
       "0     [{'alias': 'breweries', 'title': 'Breweries'}]     4.5   \n",
       "1  [{'alias': 'mexican', 'title': 'Mexican'}, {'a...     4.5   \n",
       "\n",
       "                                      coordinates transactions price  \\\n",
       "0   {'latitude': 36.09564, 'longitude': -79.2637}           []    $$   \n",
       "1  {'latitude': 36.07109, 'longitude': -79.40254}   [delivery]    $$   \n",
       "\n",
       "                                            location         phone  \\\n",
       "0  {'address1': '107 N 7th St', 'address2': '', '...  +19195689415   \n",
       "1  {'address1': '203 W Harden St', 'address2': ''...  +13362269050   \n",
       "\n",
       "    display_phone      distance  \n",
       "0  (919) 568-9415  11486.423858  \n",
       "1  (336) 226-9050   2920.973132  "
      ]
     },
     "execution_count": 10,
     "metadata": {},
     "output_type": "execute_result"
    }
   ],
   "source": [
    "df2 = pd.DataFrame(search_results['businesses'])\n",
    "df2.head(2)"
   ]
  },
  {
   "cell_type": "code",
   "execution_count": 11,
   "id": "68302b30",
   "metadata": {},
   "outputs": [
    {
     "data": {
      "text/plain": [
       "dict_keys(['id', 'alias', 'name', 'image_url', 'is_closed', 'url', 'review_count', 'categories', 'rating', 'coordinates', 'transactions', 'location', 'phone', 'display_phone', 'distance'])"
      ]
     },
     "execution_count": 11,
     "metadata": {},
     "output_type": "execute_result"
    }
   ],
   "source": [
    "results['businesses'][0].keys()"
   ]
  },
  {
   "cell_type": "code",
   "execution_count": 12,
   "id": "7bfedf25",
   "metadata": {},
   "outputs": [
    {
     "data": {
      "text/plain": [
       "dict_keys(['id', 'alias', 'name', 'image_url', 'is_closed', 'url', 'review_count', 'categories', 'rating', 'coordinates', 'transactions', 'price', 'location', 'phone', 'display_phone', 'distance'])"
      ]
     },
     "execution_count": 12,
     "metadata": {},
     "output_type": "execute_result"
    }
   ],
   "source": [
    "search_results['businesses'][0].keys()"
   ]
  },
  {
   "cell_type": "code",
   "execution_count": 13,
   "id": "d9edd5bb",
   "metadata": {},
   "outputs": [
    {
     "data": {
      "text/html": [
       "<div>\n",
       "<style scoped>\n",
       "    .dataframe tbody tr th:only-of-type {\n",
       "        vertical-align: middle;\n",
       "    }\n",
       "\n",
       "    .dataframe tbody tr th {\n",
       "        vertical-align: top;\n",
       "    }\n",
       "\n",
       "    .dataframe thead th {\n",
       "        text-align: right;\n",
       "    }\n",
       "</style>\n",
       "<table border=\"1\" class=\"dataframe\">\n",
       "  <thead>\n",
       "    <tr style=\"text-align: right;\">\n",
       "      <th></th>\n",
       "      <th>id</th>\n",
       "      <th>alias</th>\n",
       "      <th>name</th>\n",
       "      <th>image_url</th>\n",
       "      <th>is_closed</th>\n",
       "      <th>url</th>\n",
       "      <th>review_count</th>\n",
       "      <th>categories</th>\n",
       "      <th>rating</th>\n",
       "      <th>coordinates</th>\n",
       "      <th>transactions</th>\n",
       "      <th>location</th>\n",
       "      <th>phone</th>\n",
       "      <th>display_phone</th>\n",
       "      <th>distance</th>\n",
       "      <th>price</th>\n",
       "    </tr>\n",
       "  </thead>\n",
       "  <tbody>\n",
       "    <tr>\n",
       "      <th>0</th>\n",
       "      <td>k3Q_83BFa_4x419nU7dalQ</td>\n",
       "      <td>big-day-brewing-gorham</td>\n",
       "      <td>Big Day Brewing</td>\n",
       "      <td>https://s3-media2.fl.yelpcdn.com/bphoto/JbMs_Q...</td>\n",
       "      <td>False</td>\n",
       "      <td>https://www.yelp.com/biz/big-day-brewing-gorha...</td>\n",
       "      <td>31</td>\n",
       "      <td>[{'alias': 'tacos', 'title': 'Tacos'}, {'alias...</td>\n",
       "      <td>4.5</td>\n",
       "      <td>{'latitude': 44.38637450548805, 'longitude': -...</td>\n",
       "      <td>[]</td>\n",
       "      <td>{'address1': '20 Glen Rd', 'address2': '', 'ad...</td>\n",
       "      <td></td>\n",
       "      <td></td>\n",
       "      <td>1342.441076</td>\n",
       "      <td>NaN</td>\n",
       "    </tr>\n",
       "    <tr>\n",
       "      <th>1</th>\n",
       "      <td>VKZrv5wQXmREQDSw6v49Qw</td>\n",
       "      <td>nonnas-kitchen-gorham</td>\n",
       "      <td>Nonna's Kitchen</td>\n",
       "      <td>https://s3-media4.fl.yelpcdn.com/bphoto/RBzcom...</td>\n",
       "      <td>False</td>\n",
       "      <td>https://www.yelp.com/biz/nonnas-kitchen-gorham...</td>\n",
       "      <td>86</td>\n",
       "      <td>[{'alias': 'italian', 'title': 'Italian'}, {'a...</td>\n",
       "      <td>4.5</td>\n",
       "      <td>{'latitude': 44.38819, 'longitude': -71.17629}</td>\n",
       "      <td>[]</td>\n",
       "      <td>{'address1': '19 Exchange St', 'address2': Non...</td>\n",
       "      <td>+16039159203</td>\n",
       "      <td>(603) 915-9203</td>\n",
       "      <td>1001.196068</td>\n",
       "      <td>NaN</td>\n",
       "    </tr>\n",
       "    <tr>\n",
       "      <th>2</th>\n",
       "      <td>6elBFAGzM56ZGH7UDhamMw</td>\n",
       "      <td>js-corner-restaurant-and-lounge-gorham</td>\n",
       "      <td>J's Corner Restaurant &amp; Lounge</td>\n",
       "      <td>https://s3-media4.fl.yelpcdn.com/bphoto/fTPYKC...</td>\n",
       "      <td>False</td>\n",
       "      <td>https://www.yelp.com/biz/js-corner-restaurant-...</td>\n",
       "      <td>115</td>\n",
       "      <td>[{'alias': 'steak', 'title': 'Steakhouses'}, {...</td>\n",
       "      <td>4.0</td>\n",
       "      <td>{'latitude': 44.3940221, 'longitude': -71.1908...</td>\n",
       "      <td>[]</td>\n",
       "      <td>{'address1': '277 Main St', 'address2': '', 'a...</td>\n",
       "      <td>+16034665132</td>\n",
       "      <td>(603) 466-5132</td>\n",
       "      <td>276.145276</td>\n",
       "      <td>$$</td>\n",
       "    </tr>\n",
       "  </tbody>\n",
       "</table>\n",
       "</div>"
      ],
      "text/plain": [
       "                       id                                   alias  \\\n",
       "0  k3Q_83BFa_4x419nU7dalQ                  big-day-brewing-gorham   \n",
       "1  VKZrv5wQXmREQDSw6v49Qw                   nonnas-kitchen-gorham   \n",
       "2  6elBFAGzM56ZGH7UDhamMw  js-corner-restaurant-and-lounge-gorham   \n",
       "\n",
       "                             name  \\\n",
       "0                 Big Day Brewing   \n",
       "1                 Nonna's Kitchen   \n",
       "2  J's Corner Restaurant & Lounge   \n",
       "\n",
       "                                           image_url  is_closed  \\\n",
       "0  https://s3-media2.fl.yelpcdn.com/bphoto/JbMs_Q...      False   \n",
       "1  https://s3-media4.fl.yelpcdn.com/bphoto/RBzcom...      False   \n",
       "2  https://s3-media4.fl.yelpcdn.com/bphoto/fTPYKC...      False   \n",
       "\n",
       "                                                 url  review_count  \\\n",
       "0  https://www.yelp.com/biz/big-day-brewing-gorha...            31   \n",
       "1  https://www.yelp.com/biz/nonnas-kitchen-gorham...            86   \n",
       "2  https://www.yelp.com/biz/js-corner-restaurant-...           115   \n",
       "\n",
       "                                          categories  rating  \\\n",
       "0  [{'alias': 'tacos', 'title': 'Tacos'}, {'alias...     4.5   \n",
       "1  [{'alias': 'italian', 'title': 'Italian'}, {'a...     4.5   \n",
       "2  [{'alias': 'steak', 'title': 'Steakhouses'}, {...     4.0   \n",
       "\n",
       "                                         coordinates transactions  \\\n",
       "0  {'latitude': 44.38637450548805, 'longitude': -...           []   \n",
       "1     {'latitude': 44.38819, 'longitude': -71.17629}           []   \n",
       "2  {'latitude': 44.3940221, 'longitude': -71.1908...           []   \n",
       "\n",
       "                                            location         phone  \\\n",
       "0  {'address1': '20 Glen Rd', 'address2': '', 'ad...                 \n",
       "1  {'address1': '19 Exchange St', 'address2': Non...  +16039159203   \n",
       "2  {'address1': '277 Main St', 'address2': '', 'a...  +16034665132   \n",
       "\n",
       "    display_phone     distance price  \n",
       "0                  1342.441076   NaN  \n",
       "1  (603) 915-9203  1001.196068   NaN  \n",
       "2  (603) 466-5132   276.145276    $$  "
      ]
     },
     "metadata": {},
     "output_type": "display_data"
    },
    {
     "data": {
      "text/html": [
       "<div>\n",
       "<style scoped>\n",
       "    .dataframe tbody tr th:only-of-type {\n",
       "        vertical-align: middle;\n",
       "    }\n",
       "\n",
       "    .dataframe tbody tr th {\n",
       "        vertical-align: top;\n",
       "    }\n",
       "\n",
       "    .dataframe thead th {\n",
       "        text-align: right;\n",
       "    }\n",
       "</style>\n",
       "<table border=\"1\" class=\"dataframe\">\n",
       "  <thead>\n",
       "    <tr style=\"text-align: right;\">\n",
       "      <th></th>\n",
       "      <th>id</th>\n",
       "      <th>alias</th>\n",
       "      <th>name</th>\n",
       "      <th>image_url</th>\n",
       "      <th>is_closed</th>\n",
       "      <th>url</th>\n",
       "      <th>review_count</th>\n",
       "      <th>categories</th>\n",
       "      <th>rating</th>\n",
       "      <th>coordinates</th>\n",
       "      <th>transactions</th>\n",
       "      <th>location</th>\n",
       "      <th>phone</th>\n",
       "      <th>display_phone</th>\n",
       "      <th>distance</th>\n",
       "      <th>price</th>\n",
       "    </tr>\n",
       "  </thead>\n",
       "  <tbody>\n",
       "    <tr>\n",
       "      <th>37</th>\n",
       "      <td>jBwHLbl8hL19LgX9cUkTiw</td>\n",
       "      <td>ulvias-restaurant-graham</td>\n",
       "      <td>Ulvias Restaurant</td>\n",
       "      <td>https://s3-media1.fl.yelpcdn.com/bphoto/4wMa5X...</td>\n",
       "      <td>False</td>\n",
       "      <td>https://www.yelp.com/biz/ulvias-restaurant-gra...</td>\n",
       "      <td>18</td>\n",
       "      <td>[{'alias': 'mexican', 'title': 'Mexican'}]</td>\n",
       "      <td>4.0</td>\n",
       "      <td>{'latitude': 35.9071503, 'longitude': -79.3071...</td>\n",
       "      <td>[]</td>\n",
       "      <td>{'address1': '3908 E Greensboro Chapel Hill Rd...</td>\n",
       "      <td>+13363765425</td>\n",
       "      <td>(336) 376-5425</td>\n",
       "      <td>17419.747002</td>\n",
       "      <td>$</td>\n",
       "    </tr>\n",
       "    <tr>\n",
       "      <th>38</th>\n",
       "      <td>Ja2kNsl6JkXTUk_NC9-2og</td>\n",
       "      <td>taaza-bistro-burlington</td>\n",
       "      <td>Taaza Bistro</td>\n",
       "      <td>https://s3-media2.fl.yelpcdn.com/bphoto/pZ9xcs...</td>\n",
       "      <td>False</td>\n",
       "      <td>https://www.yelp.com/biz/taaza-bistro-burlingt...</td>\n",
       "      <td>172</td>\n",
       "      <td>[{'alias': 'indpak', 'title': 'Indian'}]</td>\n",
       "      <td>4.0</td>\n",
       "      <td>{'latitude': 36.08049, 'longitude': -79.50587}</td>\n",
       "      <td>[delivery, pickup]</td>\n",
       "      <td>{'address1': '3252 S Church St', 'address2': N...</td>\n",
       "      <td>+13365240488</td>\n",
       "      <td>(336) 524-0488</td>\n",
       "      <td>11764.173174</td>\n",
       "      <td>$$</td>\n",
       "    </tr>\n",
       "    <tr>\n",
       "      <th>39</th>\n",
       "      <td>c43nPaNwSvPmOUqWDROflA</td>\n",
       "      <td>red-oak-lager-haus-and-biergarten-whitsett-2</td>\n",
       "      <td>Red Oak Lager Haus &amp; Biergarten</td>\n",
       "      <td>https://s3-media4.fl.yelpcdn.com/bphoto/uQjRAg...</td>\n",
       "      <td>False</td>\n",
       "      <td>https://www.yelp.com/biz/red-oak-lager-haus-an...</td>\n",
       "      <td>119</td>\n",
       "      <td>[{'alias': 'breweries', 'title': 'Breweries'}]</td>\n",
       "      <td>4.0</td>\n",
       "      <td>{'latitude': 36.06126632623551, 'longitude': -...</td>\n",
       "      <td>[]</td>\n",
       "      <td>{'address1': '6905 Konica Dr', 'address2': Non...</td>\n",
       "      <td>+13364472005</td>\n",
       "      <td>(336) 447-2005</td>\n",
       "      <td>17064.679145</td>\n",
       "      <td>$$</td>\n",
       "    </tr>\n",
       "  </tbody>\n",
       "</table>\n",
       "</div>"
      ],
      "text/plain": [
       "                        id                                         alias  \\\n",
       "37  jBwHLbl8hL19LgX9cUkTiw                      ulvias-restaurant-graham   \n",
       "38  Ja2kNsl6JkXTUk_NC9-2og                       taaza-bistro-burlington   \n",
       "39  c43nPaNwSvPmOUqWDROflA  red-oak-lager-haus-and-biergarten-whitsett-2   \n",
       "\n",
       "                               name  \\\n",
       "37                Ulvias Restaurant   \n",
       "38                     Taaza Bistro   \n",
       "39  Red Oak Lager Haus & Biergarten   \n",
       "\n",
       "                                            image_url  is_closed  \\\n",
       "37  https://s3-media1.fl.yelpcdn.com/bphoto/4wMa5X...      False   \n",
       "38  https://s3-media2.fl.yelpcdn.com/bphoto/pZ9xcs...      False   \n",
       "39  https://s3-media4.fl.yelpcdn.com/bphoto/uQjRAg...      False   \n",
       "\n",
       "                                                  url  review_count  \\\n",
       "37  https://www.yelp.com/biz/ulvias-restaurant-gra...            18   \n",
       "38  https://www.yelp.com/biz/taaza-bistro-burlingt...           172   \n",
       "39  https://www.yelp.com/biz/red-oak-lager-haus-an...           119   \n",
       "\n",
       "                                        categories  rating  \\\n",
       "37      [{'alias': 'mexican', 'title': 'Mexican'}]     4.0   \n",
       "38        [{'alias': 'indpak', 'title': 'Indian'}]     4.0   \n",
       "39  [{'alias': 'breweries', 'title': 'Breweries'}]     4.0   \n",
       "\n",
       "                                          coordinates        transactions  \\\n",
       "37  {'latitude': 35.9071503, 'longitude': -79.3071...                  []   \n",
       "38     {'latitude': 36.08049, 'longitude': -79.50587}  [delivery, pickup]   \n",
       "39  {'latitude': 36.06126632623551, 'longitude': -...                  []   \n",
       "\n",
       "                                             location         phone  \\\n",
       "37  {'address1': '3908 E Greensboro Chapel Hill Rd...  +13363765425   \n",
       "38  {'address1': '3252 S Church St', 'address2': N...  +13365240488   \n",
       "39  {'address1': '6905 Konica Dr', 'address2': Non...  +13364472005   \n",
       "\n",
       "     display_phone      distance price  \n",
       "37  (336) 376-5425  17419.747002     $  \n",
       "38  (336) 524-0488  11764.173174    $$  \n",
       "39  (336) 447-2005  17064.679145    $$  "
      ]
     },
     "metadata": {},
     "output_type": "display_data"
    }
   ],
   "source": [
    "## concatenate the previous results and new results. \n",
    "businesses = pd.concat([df, df2],\n",
    "                      ignore_index=True)\n",
    "display(businesses.head(3), businesses.tail(3))"
   ]
  },
  {
   "cell_type": "code",
   "execution_count": 14,
   "id": "00b1ccfd",
   "metadata": {},
   "outputs": [
    {
     "data": {
      "text/plain": [
       "'[{\"id\":\"k3Q_83BFa_4x419nU7dalQ\",\"alias\":\"big-day-brewing-gorham\",\"name\":\"Big Day Brewing\",\"image_url\":\"https:\\\\/\\\\/s3-media2.fl.yelpcdn.com\\\\/bphoto\\\\/JbMs_Q4OuN8R_VDpRVrIeg\\\\/o.jpg\",\"is_closed\":false,\"url\":\"https:\\\\/\\\\/www.yelp.com\\\\/biz\\\\/big-day-brewing-gorham?adjust_creative=P_tD5zibfieAlw0iQZIJJA&utm_campaign=yelp_api_v3&utm_medium=api_v3_business_search&utm_source=P_tD5zibfieAlw0iQZIJJA\",\"review_count\":31,\"categories\":[{\"alias\":\"tacos\",\"title\":\"Tacos\"},{\"alias\":\"beerbar\",\"title\":\"Beer Bar\"},{\"alias\":\"sandwiches\",\"title\":\"Sandwiches\"}],\"rating\":4.5,\"coordinates\":{\"latitude\":44.3863745055,\"longitude\":-71.1729951498},\"transactions\":[],\"location\":{\"address1\":\"20 Glen Rd\",\"address2\":\"\",\"address3\":null,\"city\":\"Gorham\",\"zip_code\":\"03581\",\"country\":\"US\",\"state\":\"NH\",\"display_address\":[\"20 Glen Rd\",\"Gorham, NH 03581\"]},\"phone\":\"\",\"display_phone\":\"\",\"distance\":1342.4410760668,\"price\":null},{\"id\":\"VKZrv5wQXmREQDSw6v49Qw\",\"alias\":\"nonnas-kitchen-gorham\",\"name\":\"Nonna\\'s Kitchen\",\"image_url\":\"https:\\\\/\\\\/s3-media4.fl.yelpcdn.com\\\\/bphoto\\\\/RBzcomB8GG8AwWUyv6K6pQ\\\\/o.jpg\",\"is_closed\":false,\"url\":\"https:\\\\/\\\\/www.yelp.com\\\\/biz\\\\/nonnas-kitchen-gorham?adjust_creative=P_tD5zibfieAlw0iQZIJJA&utm_campaign=yelp_api_v3&utm_medium=api_v3_business_search&utm_source=P_tD5zibfieAlw0iQZIJJA\",\"review_count\":86,\"categories\":[{\"alias\":\"italian\",\"title\":\"Italian\"},{\"alias\":\"wine_bars\",\"title\":\"Wine Bars\"}],\"rating\":4.5,\"coordinates\":{\"latitude\":44.38819,\"longitude\":-71.17629},\"transactions\":[],\"location\":{\"address1\":\"19 Exchange St\",\"address2\":null,\"address3\":\"\",\"city\":\"Gorham\",\"zip_code\":\"03581\",\"country\":\"US\",\"state\":\"NH\",\"display_address\":[\"19 Exchange St\",\"Gorham, NH 03581\"]},\"phone\":\"+16039159203\",\"display_phone\":\"(603) 915-9203\",\"distance\":1001.1960680362,\"price\":null},{\"id\":\"6elBFAGzM56ZGH7UDhamMw\",\"alias\":\"js-corner-restaurant-and-lounge-gorham\",\"name\":\"J\\'s Corner Restaurant & Lounge\",\"image_url\":\"https:\\\\/\\\\/s3-media4.fl.yelpcdn.com\\\\/bphoto\\\\/fTPYKCJXZvAHZ1ZT0Ul4ZQ\\\\/o.jpg\",\"is_closed\":false,\"url\":\"https:\\\\/\\\\/www.yelp.com\\\\/biz\\\\/js-corner-restaurant-and-lounge-gorham?adjust_creative=P_tD5zibfieAlw0iQZIJJA&utm_campaign=yelp_api_v3&utm_medium=api_v3_business_search&utm_source=P_tD5zibfieAlw0iQZIJJA\",\"review_count\":115,\"categories\":[{\"alias\":\"steak\",\"title\":\"Steakhouses\"},{\"alias\":\"seafood\",\"title\":\"Seafood\"},{\"alias\":\"tradamerican\",\"title\":\"American (Traditional)\"}],\"rating\":4.0,\"coordinates\":{\"latitude\":44.3940221,\"longitude\":-71.1908096},\"transactions\":[],\"location\":{\"address1\":\"277 Main St\",\"address2\":\"\",\"address3\":\"\",\"city\":\"Gorham\",\"zip_code\":\"03581\",\"country\":\"US\",\"state\":\"NH\",\"display_address\":[\"277 Main St\",\"Gorham, NH 03581\"]},\"phone\":\"+16034665132\",\"display_phone\":\"(603) 466-5132\",\"distance\":276.1452755835,\"price\":\"$$\"},{\"id\":\"vhPLfjJbRjwply6e2JUyZQ\",\"alias\":\"road-hawg-bbq-swine-dining-gorham\",\"name\":\"Road Hawg BBQ Swine Dining\",\"image_url\":\"https:\\\\/\\\\/s3-media4.fl.yelpcdn.com\\\\/bphoto\\\\/6GLjDZoa6g0t4KDmJmTgBw\\\\/o.jpg\",\"is_closed\":false,\"url\":\"https:\\\\/\\\\/www.yelp.com\\\\/biz\\\\/road-hawg-bbq-swine-dining-gorham?adjust_creative=P_tD5zibfieAlw0iQZIJJA&utm_campaign=yelp_api_v3&utm_medium=api_v3_business_search&utm_source=P_tD5zibfieAlw0iQZIJJA\",\"review_count\":96,\"categories\":[{\"alias\":\"foodtrucks\",\"title\":\"Food Trucks\"},{\"alias\":\"bbq\",\"title\":\"Barbeque\"}],\"rating\":4.0,\"coordinates\":{\"latitude\":44.391285,\"longitude\":-71.185014},\"transactions\":[],\"location\":{\"address1\":\"195 Main St\",\"address2\":\"\",\"address3\":null,\"city\":\"Gorham\",\"zip_code\":\"03581\",\"country\":\"US\",\"state\":\"NH\",\"display_address\":[\"195 Main St\",\"Gorham, NH 03581\"]},\"phone\":\"+16039159242\",\"display_phone\":\"(603) 915-9242\",\"distance\":247.3073389516,\"price\":\"$$\"},{\"id\":\"uJedD6K0GqJwjfmeJ9v5NQ\",\"alias\":\"public-house-eatery-gorham\",\"name\":\"Public House Eatery\",\"image_url\":\"https:\\\\/\\\\/s3-media2.fl.yelpcdn.com\\\\/bphoto\\\\/3BB9wUjt1_5pjzId6doX7Q\\\\/o.jpg\",\"is_closed\":false,\"url\":\"https:\\\\/\\\\/www.yelp.com\\\\/biz\\\\/public-house-eatery-gorham?adjust_creative=P_tD5zibfieAlw0iQZIJJA&utm_campaign=yelp_api_v3&utm_medium=api_v3_business_search&utm_source=P_tD5zibfieAlw0iQZIJJA\",\"review_count\":36,\"categories\":[{\"alias\":\"pizza\",\"title\":\"Pizza\"},{\"alias\":\"bars\",\"title\":\"Bars\"}],\"rating\":4.5,\"coordinates\":{\"latitude\":44.392689,\"longitude\":-71.187861},\"transactions\":[],\"location\":{\"address1\":\"245 Main St\",\"address2\":\"\",\"address3\":null,\"city\":\"Gorham\",\"zip_code\":\"03581\",\"country\":\"US\",\"state\":\"NH\",\"display_address\":[\"245 Main St\",\"Gorham, NH 03581\"]},\"phone\":\"+16039159209\",\"display_phone\":\"(603) 915-9209\",\"distance\":53.5161414512,\"price\":null},{\"id\":\"8L7bj4_yJ4VMXAuNbprnmQ\",\"alias\":\"gorham-house-of-pizza-gorham-2\",\"name\":\"Gorham House of Pizza\",\"image_url\":\"https:\\\\/\\\\/s3-media3.fl.yelpcdn.com\\\\/bphoto\\\\/KiT_4H95_22fuIb4wbUACQ\\\\/o.jpg\",\"is_closed\":false,\"url\":\"https:\\\\/\\\\/www.yelp.com\\\\/biz\\\\/gorham-house-of-pizza-gorham-2?adjust_creative=P_tD5zibfieAlw0iQZIJJA&utm_campaign=yelp_api_v3&utm_medium=api_v3_business_search&utm_source=P_tD5zibfieAlw0iQZIJJA\",\"review_count\":37,\"categories\":[{\"alias\":\"pizza\",\"title\":\"Pizza\"},{\"alias\":\"seafood\",\"title\":\"Seafood\"},{\"alias\":\"hotdog\",\"title\":\"Hot Dogs\"}],\"rating\":4.0,\"coordinates\":{\"latitude\":44.398236,\"longitude\":-71.197209},\"transactions\":[],\"location\":{\"address1\":\"12 Lancaster Rd\",\"address2\":null,\"address3\":null,\"city\":\"Gorham\",\"zip_code\":\"03581\",\"country\":\"US\",\"state\":\"NH\",\"display_address\":[\"12 Lancaster Rd\",\"Gorham, NH 03581\"]},\"phone\":\"+16034663002\",\"display_phone\":\"(603) 466-3002\",\"distance\":999.5529281346,\"price\":\"$\"},{\"id\":\"5Vv9EoQd9wn2tdCbjDdQEQ\",\"alias\":\"white-mountain-cafe-gorham-2\",\"name\":\"White Mountain Cafe\",\"image_url\":\"https:\\\\/\\\\/s3-media2.fl.yelpcdn.com\\\\/bphoto\\\\/Hk0qH0Ecv_f73wblNmGITA\\\\/o.jpg\",\"is_closed\":false,\"url\":\"https:\\\\/\\\\/www.yelp.com\\\\/biz\\\\/white-mountain-cafe-gorham-2?adjust_creative=P_tD5zibfieAlw0iQZIJJA&utm_campaign=yelp_api_v3&utm_medium=api_v3_business_search&utm_source=P_tD5zibfieAlw0iQZIJJA\",\"review_count\":99,\"categories\":[{\"alias\":\"coffee\",\"title\":\"Coffee & Tea\"},{\"alias\":\"internetcafe\",\"title\":\"Internet Cafes\"}],\"rating\":4.5,\"coordinates\":{\"latitude\":44.3919626623,\"longitude\":-71.1853035539},\"transactions\":[],\"location\":{\"address1\":\"212 Main St\",\"address2\":\"\",\"address3\":\"\",\"city\":\"Gorham\",\"zip_code\":\"03581\",\"country\":\"US\",\"state\":\"NH\",\"display_address\":[\"212 Main St\",\"Gorham, NH 03581\"]},\"phone\":\"+16034662511\",\"display_phone\":\"(603) 466-2511\",\"distance\":149.9426333576,\"price\":\"$\"},{\"id\":\"vkw-JV49bvGafXk1R2qdcw\",\"alias\":\"gorham-dynasty-buffet-gorham\",\"name\":\"Gorham Dynasty Buffet\",\"image_url\":\"https:\\\\/\\\\/s3-media3.fl.yelpcdn.com\\\\/bphoto\\\\/236-tcP4vHIhNO8tT7ykDA\\\\/o.jpg\",\"is_closed\":false,\"url\":\"https:\\\\/\\\\/www.yelp.com\\\\/biz\\\\/gorham-dynasty-buffet-gorham?adjust_creative=P_tD5zibfieAlw0iQZIJJA&utm_campaign=yelp_api_v3&utm_medium=api_v3_business_search&utm_source=P_tD5zibfieAlw0iQZIJJA\",\"review_count\":36,\"categories\":[{\"alias\":\"chinese\",\"title\":\"Chinese\"},{\"alias\":\"buffets\",\"title\":\"Buffets\"},{\"alias\":\"japanese\",\"title\":\"Japanese\"}],\"rating\":4.0,\"coordinates\":{\"latitude\":44.3952009,\"longitude\":-71.1926996},\"transactions\":[],\"location\":{\"address1\":\"310 Main St\",\"address2\":\"\",\"address3\":\"\",\"city\":\"Gorham\",\"zip_code\":\"03581\",\"country\":\"US\",\"state\":\"NH\",\"display_address\":[\"310 Main St\",\"Gorham, NH 03581\"]},\"phone\":\"+16034669888\",\"display_phone\":\"(603) 466-9888\",\"distance\":505.4372274752,\"price\":\"$\"},{\"id\":\"nOpOsaOtHVkeLtR50hkeHA\",\"alias\":\"yokohama-gorham\",\"name\":\"Yokohama\",\"image_url\":\"https:\\\\/\\\\/s3-media2.fl.yelpcdn.com\\\\/bphoto\\\\/kWUCAQiduLLhxx9i69Ig5g\\\\/o.jpg\",\"is_closed\":false,\"url\":\"https:\\\\/\\\\/www.yelp.com\\\\/biz\\\\/yokohama-gorham?adjust_creative=P_tD5zibfieAlw0iQZIJJA&utm_campaign=yelp_api_v3&utm_medium=api_v3_business_search&utm_source=P_tD5zibfieAlw0iQZIJJA\",\"review_count\":44,\"categories\":[{\"alias\":\"japanese\",\"title\":\"Japanese\"}],\"rating\":2.5,\"coordinates\":{\"latitude\":44.3945053965,\"longitude\":-71.1916107684},\"transactions\":[],\"location\":{\"address1\":\"288 Main St\",\"address2\":\"\",\"address3\":\"\",\"city\":\"Gorham\",\"zip_code\":\"03581\",\"country\":\"US\",\"state\":\"NH\",\"display_address\":[\"288 Main St\",\"Gorham, NH 03581\"]},\"phone\":\"+16034662501\",\"display_phone\":\"(603) 466-2501\",\"distance\":352.83472247,\"price\":\"$$\"},{\"id\":\"sDk92WWgMwJ5rvEa2ua5EA\",\"alias\":\"the-butcher-s-daughter-gorham\",\"name\":\"The Butcher\\\\u2019s Daughter\",\"image_url\":\"\",\"is_closed\":false,\"url\":\"https:\\\\/\\\\/www.yelp.com\\\\/biz\\\\/the-butcher-s-daughter-gorham?adjust_creative=P_tD5zibfieAlw0iQZIJJA&utm_campaign=yelp_api_v3&utm_medium=api_v3_business_search&utm_source=P_tD5zibfieAlw0iQZIJJA\",\"review_count\":1,\"categories\":[{\"alias\":\"sandwiches\",\"title\":\"Sandwiches\"},{\"alias\":\"juicebars\",\"title\":\"Juice Bars & Smoothies\"},{\"alias\":\"salad\",\"title\":\"Salad\"}],\"rating\":5.0,\"coordinates\":{\"latitude\":44.390336,\"longitude\":-71.180968},\"transactions\":[],\"location\":{\"address1\":\"152 Main St\",\"address2\":\"\",\"address3\":null,\"city\":\"Gorham\",\"zip_code\":\"03581\",\"country\":\"US\",\"state\":\"NH\",\"display_address\":[\"152 Main St\",\"Gorham, NH 03581\"]},\"phone\":\"+16039159020\",\"display_phone\":\"(603) 915-9020\",\"distance\":573.720855166,\"price\":null},{\"id\":\"GuSA0i6FDXZ76-b6WARbzw\",\"alias\":\"eastern-depot-restaurant-gorham\",\"name\":\"Eastern Depot Restaurant\",\"image_url\":\"https:\\\\/\\\\/s3-media2.fl.yelpcdn.com\\\\/bphoto\\\\/068q-YtlqiREVBAffltYhQ\\\\/o.jpg\",\"is_closed\":false,\"url\":\"https:\\\\/\\\\/www.yelp.com\\\\/biz\\\\/eastern-depot-restaurant-gorham?adjust_creative=P_tD5zibfieAlw0iQZIJJA&utm_campaign=yelp_api_v3&utm_medium=api_v3_business_search&utm_source=P_tD5zibfieAlw0iQZIJJA\",\"review_count\":36,\"categories\":[{\"alias\":\"breakfast_brunch\",\"title\":\"Breakfast & Brunch\"},{\"alias\":\"tradamerican\",\"title\":\"American (Traditional)\"},{\"alias\":\"cocktailbars\",\"title\":\"Cocktail Bars\"}],\"rating\":4.0,\"coordinates\":{\"latitude\":44.40592,\"longitude\":-71.19922},\"transactions\":[],\"location\":{\"address1\":\"443 Main St\",\"address2\":\"\",\"address3\":\"\",\"city\":\"Gorham\",\"zip_code\":\"03581\",\"country\":\"US\",\"state\":\"NH\",\"display_address\":[\"443 Main St\",\"Gorham, NH 03581\"]},\"phone\":\"+16039159160\",\"display_phone\":\"(603) 915-9160\",\"distance\":1741.7900698576,\"price\":\"$\"},{\"id\":\"QmKi3htNeMlONsW56A9hIw\",\"alias\":\"scoggins-general-store-gorham\",\"name\":\"Scoggins General Store\",\"image_url\":\"https:\\\\/\\\\/s3-media3.fl.yelpcdn.com\\\\/bphoto\\\\/ja-4dRZcczGnuBKBIbGRWQ\\\\/o.jpg\",\"is_closed\":false,\"url\":\"https:\\\\/\\\\/www.yelp.com\\\\/biz\\\\/scoggins-general-store-gorham?adjust_creative=P_tD5zibfieAlw0iQZIJJA&utm_campaign=yelp_api_v3&utm_medium=api_v3_business_search&utm_source=P_tD5zibfieAlw0iQZIJJA\",\"review_count\":6,\"categories\":[{\"alias\":\"candy\",\"title\":\"Candy Stores\"},{\"alias\":\"souvenirs\",\"title\":\"Souvenir Shops\"},{\"alias\":\"giftshops\",\"title\":\"Gift Shops\"}],\"rating\":4.0,\"coordinates\":{\"latitude\":44.38938,\"longitude\":-71.17924},\"transactions\":[],\"location\":{\"address1\":\"133 Main St\",\"address2\":\"\",\"address3\":\"\",\"city\":\"Gorham\",\"zip_code\":\"03581\",\"country\":\"US\",\"state\":\"NH\",\"display_address\":[\"133 Main St\",\"Gorham, NH 03581\"]},\"phone\":\"+16034665204\",\"display_phone\":\"(603) 466-5204\",\"distance\":744.6579004872,\"price\":null},{\"id\":\"JSEPLSCaBZb2YRfifQhl3w\",\"alias\":\"marys-pizza-gorham\",\"name\":\"Mary\\'s Pizza\",\"image_url\":\"https:\\\\/\\\\/s3-media1.fl.yelpcdn.com\\\\/bphoto\\\\/8EWXvE6CQIlMldzdGAfgRQ\\\\/o.jpg\",\"is_closed\":false,\"url\":\"https:\\\\/\\\\/www.yelp.com\\\\/biz\\\\/marys-pizza-gorham?adjust_creative=P_tD5zibfieAlw0iQZIJJA&utm_campaign=yelp_api_v3&utm_medium=api_v3_business_search&utm_source=P_tD5zibfieAlw0iQZIJJA\",\"review_count\":24,\"categories\":[{\"alias\":\"pizza\",\"title\":\"Pizza\"},{\"alias\":\"italian\",\"title\":\"Italian\"}],\"rating\":3.5,\"coordinates\":{\"latitude\":44.4441995,\"longitude\":-71.1872877},\"transactions\":[],\"location\":{\"address1\":\"9 Cascade Flt\",\"address2\":\"\",\"address3\":\"\",\"city\":\"Gorham\",\"zip_code\":\"03581\",\"country\":\"US\",\"state\":\"NH\",\"display_address\":[\"9 Cascade Flt\",\"Gorham, NH 03581\"]},\"phone\":\"+16037526150\",\"display_phone\":\"(603) 752-6150\",\"distance\":5713.8701313483,\"price\":\"$\"},{\"id\":\"21Bin1nuUHITQbRwujpvIw\",\"alias\":\"vashaws-variety-gorham\",\"name\":\"Vashaw\\'s Variety\",\"image_url\":\"https:\\\\/\\\\/s3-media2.fl.yelpcdn.com\\\\/bphoto\\\\/v2XA86yUzF651jApXCHiKw\\\\/o.jpg\",\"is_closed\":false,\"url\":\"https:\\\\/\\\\/www.yelp.com\\\\/biz\\\\/vashaws-variety-gorham?adjust_creative=P_tD5zibfieAlw0iQZIJJA&utm_campaign=yelp_api_v3&utm_medium=api_v3_business_search&utm_source=P_tD5zibfieAlw0iQZIJJA\",\"review_count\":1,\"categories\":[{\"alias\":\"grocery\",\"title\":\"Grocery\"}],\"rating\":5.0,\"coordinates\":{\"latitude\":44.39485,\"longitude\":-71.19234},\"transactions\":[],\"location\":{\"address1\":\"302 Main St\",\"address2\":\"\",\"address3\":\"\",\"city\":\"Gorham\",\"zip_code\":\"03581\",\"country\":\"US\",\"state\":\"NH\",\"display_address\":[\"302 Main St\",\"Gorham, NH 03581\"]},\"phone\":\"+16034665008\",\"display_phone\":\"(603) 466-5008\",\"distance\":475.6778678499,\"price\":null},{\"id\":\"OqPkIGlNOK7_Drv_LzgEdg\",\"alias\":\"subway-gorham-3\",\"name\":\"Subway\",\"image_url\":\"https:\\\\/\\\\/s3-media3.fl.yelpcdn.com\\\\/bphoto\\\\/poUByqEz2IHZQ5BrLi0jqQ\\\\/o.jpg\",\"is_closed\":false,\"url\":\"https:\\\\/\\\\/www.yelp.com\\\\/biz\\\\/subway-gorham-3?adjust_creative=P_tD5zibfieAlw0iQZIJJA&utm_campaign=yelp_api_v3&utm_medium=api_v3_business_search&utm_source=P_tD5zibfieAlw0iQZIJJA\",\"review_count\":7,\"categories\":[{\"alias\":\"sandwiches\",\"title\":\"Sandwiches\"},{\"alias\":\"hotdogs\",\"title\":\"Fast Food\"}],\"rating\":1.5,\"coordinates\":{\"latitude\":44.3885439839,\"longitude\":-71.1739587},\"transactions\":[],\"location\":{\"address1\":\"66 Main St\",\"address2\":\"Ste 1\",\"address3\":\"\",\"city\":\"Gorham\",\"zip_code\":\"03581\",\"country\":\"US\",\"state\":\"NH\",\"display_address\":[\"66 Main St\",\"Ste 1\",\"Gorham, NH 03581\"]},\"phone\":\"+16034665200\",\"display_phone\":\"(603) 466-5200\",\"distance\":1160.5352235544,\"price\":\"$\"},{\"id\":\"yC75h3sVX9sOKJI7ghslWQ\",\"alias\":\"mcdonalds-gorham\",\"name\":\"McDonald\\'s\",\"image_url\":\"\",\"is_closed\":false,\"url\":\"https:\\\\/\\\\/www.yelp.com\\\\/biz\\\\/mcdonalds-gorham?adjust_creative=P_tD5zibfieAlw0iQZIJJA&utm_campaign=yelp_api_v3&utm_medium=api_v3_business_search&utm_source=P_tD5zibfieAlw0iQZIJJA\",\"review_count\":12,\"categories\":[{\"alias\":\"burgers\",\"title\":\"Burgers\"},{\"alias\":\"hotdogs\",\"title\":\"Fast Food\"},{\"alias\":\"coffee\",\"title\":\"Coffee & Tea\"}],\"rating\":3.5,\"coordinates\":{\"latitude\":44.3920313113,\"longitude\":-71.1854700282},\"transactions\":[],\"location\":{\"address1\":\"214 Main St\",\"address2\":\"\",\"address3\":\"\",\"city\":\"Gorham\",\"zip_code\":\"03581\",\"country\":\"US\",\"state\":\"NH\",\"display_address\":[\"214 Main St\",\"Gorham, NH 03581\"]},\"phone\":\"+16034662275\",\"display_phone\":\"(603) 466-2275\",\"distance\":83.0042727951,\"price\":\"$\"},{\"id\":\"bh8AAUUmUKKwo0F-Tjv6tQ\",\"alias\":\"dominos-pizza-berlin-11\",\"name\":\"Domino\\'s Pizza\",\"image_url\":\"https:\\\\/\\\\/s3-media2.fl.yelpcdn.com\\\\/bphoto\\\\/UElDCtjelhEL6TPAG8ETcQ\\\\/o.jpg\",\"is_closed\":false,\"url\":\"https:\\\\/\\\\/www.yelp.com\\\\/biz\\\\/dominos-pizza-berlin-11?adjust_creative=P_tD5zibfieAlw0iQZIJJA&utm_campaign=yelp_api_v3&utm_medium=api_v3_business_search&utm_source=P_tD5zibfieAlw0iQZIJJA\",\"review_count\":10,\"categories\":[{\"alias\":\"pizza\",\"title\":\"Pizza\"},{\"alias\":\"sandwiches\",\"title\":\"Sandwiches\"}],\"rating\":3.5,\"coordinates\":{\"latitude\":44.4658920799,\"longitude\":-71.1861171614},\"transactions\":[],\"location\":{\"address1\":\"11 Pleasant St\",\"address2\":\"\",\"address3\":null,\"city\":\"Berlin\",\"zip_code\":\"03570\",\"country\":\"US\",\"state\":\"NH\",\"display_address\":[\"11 Pleasant St\",\"Berlin, NH 03570\"]},\"phone\":\"+16037522255\",\"display_phone\":\"(603) 752-2255\",\"distance\":8126.5026546092,\"price\":\"$\"},{\"id\":\"aj1bL3hMLJ3DPJ0c87is8w\",\"alias\":\"black-moose-deli-gorham\",\"name\":\"Black Moose Deli\",\"image_url\":\"\",\"is_closed\":false,\"url\":\"https:\\\\/\\\\/www.yelp.com\\\\/biz\\\\/black-moose-deli-gorham?adjust_creative=P_tD5zibfieAlw0iQZIJJA&utm_campaign=yelp_api_v3&utm_medium=api_v3_business_search&utm_source=P_tD5zibfieAlw0iQZIJJA\",\"review_count\":1,\"categories\":[{\"alias\":\"restaurants\",\"title\":\"Restaurants\"}],\"rating\":2.0,\"coordinates\":{\"latitude\":44.36187,\"longitude\":-71.18225},\"transactions\":[],\"location\":{\"address1\":\"361 New Hampshire 16\",\"address2\":\"\",\"address3\":\"\",\"city\":\"Gorham\",\"zip_code\":\"03581\",\"country\":\"US\",\"state\":\"NH\",\"display_address\":[\"361 New Hampshire 16\",\"Gorham, NH 03581\"]},\"phone\":\"+16034662727\",\"display_phone\":\"(603) 466-2727\",\"distance\":795.8987995774,\"price\":null},{\"id\":\"MRPyHJRB3TswDxqkBcwZFA\",\"alias\":\"berlin-marketplace-berlin\",\"name\":\"Berlin Marketplace\",\"image_url\":\"\",\"is_closed\":false,\"url\":\"https:\\\\/\\\\/www.yelp.com\\\\/biz\\\\/berlin-marketplace-berlin?adjust_creative=P_tD5zibfieAlw0iQZIJJA&utm_campaign=yelp_api_v3&utm_medium=api_v3_business_search&utm_source=P_tD5zibfieAlw0iQZIJJA\",\"review_count\":3,\"categories\":[{\"alias\":\"grocery\",\"title\":\"Grocery\"}],\"rating\":4.0,\"coordinates\":{\"latitude\":44.46584,\"longitude\":-71.18595},\"transactions\":[],\"location\":{\"address1\":\"19 Pleasant St\",\"address2\":\"\",\"address3\":\"\",\"city\":\"Berlin\",\"zip_code\":\"03570\",\"country\":\"US\",\"state\":\"NH\",\"display_address\":[\"19 Pleasant St\",\"Berlin, NH 03570\"]},\"phone\":\"+16037521050\",\"display_phone\":\"(603) 752-1050\",\"distance\":8137.8444781465,\"price\":\"$$\"},{\"id\":\"8dNZy2CZ_GSWw2WOveKPZg\",\"alias\":\"cumberland-farms-gorham-3\",\"name\":\"Cumberland Farms\",\"image_url\":\"https:\\\\/\\\\/s3-media1.fl.yelpcdn.com\\\\/bphoto\\\\/WQ0afjsV-RlXjxAmXEHy6g\\\\/o.jpg\",\"is_closed\":false,\"url\":\"https:\\\\/\\\\/www.yelp.com\\\\/biz\\\\/cumberland-farms-gorham-3?adjust_creative=P_tD5zibfieAlw0iQZIJJA&utm_campaign=yelp_api_v3&utm_medium=api_v3_business_search&utm_source=P_tD5zibfieAlw0iQZIJJA\",\"review_count\":5,\"categories\":[{\"alias\":\"convenience\",\"title\":\"Convenience Stores\"}],\"rating\":4.0,\"coordinates\":{\"latitude\":44.388512,\"longitude\":-71.173044},\"transactions\":[],\"location\":{\"address1\":\"60 Main St\",\"address2\":\"\",\"address3\":\"\",\"city\":\"Gorham\",\"zip_code\":\"03581\",\"country\":\"US\",\"state\":\"NH\",\"display_address\":[\"60 Main St\",\"Gorham, NH 03581\"]},\"phone\":\"+16034662157\",\"display_phone\":\"(603) 466-2157\",\"distance\":1228.5972000844,\"price\":\"$\"},{\"id\":\"wZtLnGAbFbXjSdiWyno3Pg\",\"alias\":\"bright-penny-brewing-mebane\",\"name\":\"Bright Penny Brewing\",\"image_url\":\"https:\\\\/\\\\/s3-media4.fl.yelpcdn.com\\\\/bphoto\\\\/y3kJ1vCspwK-4jZr1j_Brw\\\\/o.jpg\",\"is_closed\":false,\"url\":\"https:\\\\/\\\\/www.yelp.com\\\\/biz\\\\/bright-penny-brewing-mebane?adjust_creative=P_tD5zibfieAlw0iQZIJJA&utm_campaign=yelp_api_v3&utm_medium=api_v3_business_search&utm_source=P_tD5zibfieAlw0iQZIJJA\",\"review_count\":62,\"categories\":[{\"alias\":\"breweries\",\"title\":\"Breweries\"}],\"rating\":4.5,\"coordinates\":{\"latitude\":36.09564,\"longitude\":-79.2637},\"transactions\":[],\"location\":{\"address1\":\"107 N 7th St\",\"address2\":\"\",\"address3\":null,\"city\":\"Mebane\",\"zip_code\":\"27302\",\"country\":\"US\",\"state\":\"NC\",\"display_address\":[\"107 N 7th St\",\"Mebane, NC 27302\"]},\"phone\":\"+19195689415\",\"display_phone\":\"(919) 568-9415\",\"distance\":11486.4238582285,\"price\":\"$$\"},{\"id\":\"PlpTEpfoyKINdM4DPUS8xg\",\"alias\":\"el-palmar-mexican-restaurant-graham\",\"name\":\"El Palmar Mexican Restaurant\",\"image_url\":\"https:\\\\/\\\\/s3-media1.fl.yelpcdn.com\\\\/bphoto\\\\/UiEtA6pJCnToxCNPK8tmxQ\\\\/o.jpg\",\"is_closed\":false,\"url\":\"https:\\\\/\\\\/www.yelp.com\\\\/biz\\\\/el-palmar-mexican-restaurant-graham?adjust_creative=P_tD5zibfieAlw0iQZIJJA&utm_campaign=yelp_api_v3&utm_medium=api_v3_business_search&utm_source=P_tD5zibfieAlw0iQZIJJA\",\"review_count\":27,\"categories\":[{\"alias\":\"mexican\",\"title\":\"Mexican\"},{\"alias\":\"seafood\",\"title\":\"Seafood\"},{\"alias\":\"hotdogs\",\"title\":\"Fast Food\"}],\"rating\":4.5,\"coordinates\":{\"latitude\":36.07109,\"longitude\":-79.40254},\"transactions\":[\"delivery\"],\"location\":{\"address1\":\"203 W Harden St\",\"address2\":\"\",\"address3\":\"\",\"city\":\"Graham\",\"zip_code\":\"27253\",\"country\":\"US\",\"state\":\"NC\",\"display_address\":[\"203 W Harden St\",\"Graham, NC 27253\"]},\"phone\":\"+13362269050\",\"display_phone\":\"(336) 226-9050\",\"distance\":2920.9731317717,\"price\":\"$$\"},{\"id\":\"NsGv7ndI1R_SvriKIEcqrg\",\"alias\":\"suttons-at-the-wrike-graham\",\"name\":\"Sutton\\'s At The Wrike\",\"image_url\":\"https:\\\\/\\\\/s3-media3.fl.yelpcdn.com\\\\/bphoto\\\\/FtxOuBT0skZwuK8wr5ZDuw\\\\/o.jpg\",\"is_closed\":false,\"url\":\"https:\\\\/\\\\/www.yelp.com\\\\/biz\\\\/suttons-at-the-wrike-graham?adjust_creative=P_tD5zibfieAlw0iQZIJJA&utm_campaign=yelp_api_v3&utm_medium=api_v3_business_search&utm_source=P_tD5zibfieAlw0iQZIJJA\",\"review_count\":33,\"categories\":[{\"alias\":\"tradamerican\",\"title\":\"American (Traditional)\"},{\"alias\":\"burgers\",\"title\":\"Burgers\"},{\"alias\":\"sandwiches\",\"title\":\"Sandwiches\"}],\"rating\":4.5,\"coordinates\":{\"latitude\":36.07008,\"longitude\":-79.40069},\"transactions\":[\"delivery\",\"pickup\"],\"location\":{\"address1\":\"114 N Main St\",\"address2\":\"\",\"address3\":null,\"city\":\"Graham\",\"zip_code\":\"27253\",\"country\":\"US\",\"state\":\"NC\",\"display_address\":[\"114 N Main St\",\"Graham, NC 27253\"]},\"phone\":\"+13363507293\",\"display_phone\":\"(336) 350-7293\",\"distance\":2718.5720703072,\"price\":null},{\"id\":\"NluwAFADYrqi2kWw9xKFYQ\",\"alias\":\"dixons-jamaican-taste-burlington\",\"name\":\"Dixon\\'s Jamaican Taste\",\"image_url\":\"https:\\\\/\\\\/s3-media2.fl.yelpcdn.com\\\\/bphoto\\\\/iQUo2B63OBkoMdWxgQqncA\\\\/o.jpg\",\"is_closed\":false,\"url\":\"https:\\\\/\\\\/www.yelp.com\\\\/biz\\\\/dixons-jamaican-taste-burlington?adjust_creative=P_tD5zibfieAlw0iQZIJJA&utm_campaign=yelp_api_v3&utm_medium=api_v3_business_search&utm_source=P_tD5zibfieAlw0iQZIJJA\",\"review_count\":84,\"categories\":[{\"alias\":\"caribbean\",\"title\":\"Caribbean\"}],\"rating\":4.5,\"coordinates\":{\"latitude\":36.08145,\"longitude\":-79.50647},\"transactions\":[\"delivery\",\"pickup\"],\"location\":{\"address1\":\"3261 South Church St\",\"address2\":\"\",\"address3\":null,\"city\":\"Burlington\",\"zip_code\":\"27215\",\"country\":\"US\",\"state\":\"NC\",\"display_address\":[\"3261 South Church St\",\"Burlington, NC 27215\"]},\"phone\":\"+13365675332\",\"display_phone\":\"(336) 567-5332\",\"distance\":11843.1152843174,\"price\":null},{\"id\":\"W5_VDvCw8X2IrG2dG7qq5w\",\"alias\":\"burlington-beer-works-burlington\",\"name\":\"Burlington Beer Works\",\"image_url\":\"https:\\\\/\\\\/s3-media1.fl.yelpcdn.com\\\\/bphoto\\\\/rRCU12scurBl6pJ1ybTnCA\\\\/o.jpg\",\"is_closed\":false,\"url\":\"https:\\\\/\\\\/www.yelp.com\\\\/biz\\\\/burlington-beer-works-burlington?adjust_creative=P_tD5zibfieAlw0iQZIJJA&utm_campaign=yelp_api_v3&utm_medium=api_v3_business_search&utm_source=P_tD5zibfieAlw0iQZIJJA\",\"review_count\":75,\"categories\":[{\"alias\":\"brewpubs\",\"title\":\"Brewpubs\"}],\"rating\":4.0,\"coordinates\":{\"latitude\":36.0936,\"longitude\":-79.4367},\"transactions\":[\"delivery\"],\"location\":{\"address1\":\"103 E Front St\",\"address2\":\"\",\"address3\":null,\"city\":\"Burlington\",\"zip_code\":\"27215\",\"country\":\"US\",\"state\":\"NC\",\"display_address\":[\"103 E Front St\",\"Burlington, NC 27215\"]},\"phone\":\"+13365256383\",\"display_phone\":\"(336) 525-6383\",\"distance\":6882.4951814446,\"price\":\"$$\"},{\"id\":\"AUHKg0OZJcTk6Na1cwfD5A\",\"alias\":\"dickie-dos-bbq-haw-river-2\",\"name\":\"Dickie-Do\\'s Bbq\",\"image_url\":\"https:\\\\/\\\\/s3-media2.fl.yelpcdn.com\\\\/bphoto\\\\/PCBAmhVLaDxjzYHFIcHmZw\\\\/o.jpg\",\"is_closed\":false,\"url\":\"https:\\\\/\\\\/www.yelp.com\\\\/biz\\\\/dickie-dos-bbq-haw-river-2?adjust_creative=P_tD5zibfieAlw0iQZIJJA&utm_campaign=yelp_api_v3&utm_medium=api_v3_business_search&utm_source=P_tD5zibfieAlw0iQZIJJA\",\"review_count\":129,\"categories\":[{\"alias\":\"bbq\",\"title\":\"Barbeque\"}],\"rating\":4.5,\"coordinates\":{\"latitude\":36.0953749453,\"longitude\":-79.3563318},\"transactions\":[\"delivery\"],\"location\":{\"address1\":\"20 Roxboro St\",\"address2\":null,\"address3\":\"\",\"city\":\"Haw River\",\"zip_code\":\"27258\",\"country\":\"US\",\"state\":\"NC\",\"display_address\":[\"20 Roxboro St\",\"Haw River, NC 27258\"]},\"phone\":\"+13365781220\",\"display_phone\":\"(336) 578-1220\",\"distance\":5219.5268407322,\"price\":\"$\"},{\"id\":\"FK4W5nPNb1YhwyllPh91Lg\",\"alias\":\"taqueria-guerrero-graham\",\"name\":\"Taqueria Guerrero\",\"image_url\":\"https:\\\\/\\\\/s3-media1.fl.yelpcdn.com\\\\/bphoto\\\\/znvFDyT-mJSqOq0jqy8ExA\\\\/o.jpg\",\"is_closed\":false,\"url\":\"https:\\\\/\\\\/www.yelp.com\\\\/biz\\\\/taqueria-guerrero-graham?adjust_creative=P_tD5zibfieAlw0iQZIJJA&utm_campaign=yelp_api_v3&utm_medium=api_v3_business_search&utm_source=P_tD5zibfieAlw0iQZIJJA\",\"review_count\":37,\"categories\":[{\"alias\":\"mexican\",\"title\":\"Mexican\"}],\"rating\":4.0,\"coordinates\":{\"latitude\":36.0518337,\"longitude\":-79.400037},\"transactions\":[\"delivery\"],\"location\":{\"address1\":\"921 S Main St\",\"address2\":null,\"address3\":null,\"city\":\"Graham\",\"zip_code\":\"27253\",\"country\":\"US\",\"state\":\"NC\",\"display_address\":[\"921 S Main St\",\"Graham, NC 27253\"]},\"phone\":\"+13362277133\",\"display_phone\":\"(336) 227-7133\",\"distance\":1833.4457846192,\"price\":\"$\"},{\"id\":\"bFB2kM_m0Zi_FCWonu-YrQ\",\"alias\":\"la-fogata-mexican-grill-graham\",\"name\":\"La Fogata Mexican Grill\",\"image_url\":\"https:\\\\/\\\\/s3-media1.fl.yelpcdn.com\\\\/bphoto\\\\/cDruHCss2ahMJ9YbkksscQ\\\\/o.jpg\",\"is_closed\":false,\"url\":\"https:\\\\/\\\\/www.yelp.com\\\\/biz\\\\/la-fogata-mexican-grill-graham?adjust_creative=P_tD5zibfieAlw0iQZIJJA&utm_campaign=yelp_api_v3&utm_medium=api_v3_business_search&utm_source=P_tD5zibfieAlw0iQZIJJA\",\"review_count\":1,\"categories\":[{\"alias\":\"mexican\",\"title\":\"Mexican\"},{\"alias\":\"seafood\",\"title\":\"Seafood\"}],\"rating\":5.0,\"coordinates\":{\"latitude\":36.0512292206,\"longitude\":-79.3993237},\"transactions\":[],\"location\":{\"address1\":\"1013 S Main St\",\"address2\":\"\",\"address3\":null,\"city\":\"Graham\",\"zip_code\":\"27253\",\"country\":\"US\",\"state\":\"NC\",\"display_address\":[\"1013 S Main St\",\"Graham, NC 27253\"]},\"phone\":\"+13365674724\",\"display_phone\":\"(336) 567-4724\",\"distance\":1772.9700537966,\"price\":null},{\"id\":\"dtf-1lfZbokTV67atpU7dw\",\"alias\":\"press-coffee-crepes-graham\",\"name\":\"Press Coffee+Crepes\",\"image_url\":\"https:\\\\/\\\\/s3-media2.fl.yelpcdn.com\\\\/bphoto\\\\/yC2TjaB3QMC3OWo_25Xkjg\\\\/o.jpg\",\"is_closed\":false,\"url\":\"https:\\\\/\\\\/www.yelp.com\\\\/biz\\\\/press-coffee-crepes-graham?adjust_creative=P_tD5zibfieAlw0iQZIJJA&utm_campaign=yelp_api_v3&utm_medium=api_v3_business_search&utm_source=P_tD5zibfieAlw0iQZIJJA\",\"review_count\":254,\"categories\":[{\"alias\":\"creperies\",\"title\":\"Creperies\"},{\"alias\":\"coffee\",\"title\":\"Coffee & Tea\"},{\"alias\":\"breakfast_brunch\",\"title\":\"Breakfast & Brunch\"}],\"rating\":4.5,\"coordinates\":{\"latitude\":36.0704345703,\"longitude\":-79.4000396729},\"transactions\":[\"delivery\",\"pickup\"],\"location\":{\"address1\":\"133 N Main St\",\"address2\":null,\"address3\":\"\",\"city\":\"Graham\",\"zip_code\":\"27253\",\"country\":\"US\",\"state\":\"NC\",\"display_address\":[\"133 N Main St\",\"Graham, NC 27253\"]},\"phone\":\"+13363953645\",\"display_phone\":\"(336) 395-3645\",\"distance\":2716.767682661,\"price\":\"$$\"},{\"id\":\"TNFxki80hv4BuC5_OOhYbw\",\"alias\":\"2-twelve-seasonal-kitchen-bar-mebane\",\"name\":\"2 Twelve Seasonal Kitchen + Bar\",\"image_url\":\"https:\\\\/\\\\/s3-media1.fl.yelpcdn.com\\\\/bphoto\\\\/omQuZmH06JV39Bwuyj_RDg\\\\/o.jpg\",\"is_closed\":false,\"url\":\"https:\\\\/\\\\/www.yelp.com\\\\/biz\\\\/2-twelve-seasonal-kitchen-bar-mebane?adjust_creative=P_tD5zibfieAlw0iQZIJJA&utm_campaign=yelp_api_v3&utm_medium=api_v3_business_search&utm_source=P_tD5zibfieAlw0iQZIJJA\",\"review_count\":66,\"categories\":[{\"alias\":\"wine_bars\",\"title\":\"Wine Bars\"},{\"alias\":\"soup\",\"title\":\"Soup\"},{\"alias\":\"sandwiches\",\"title\":\"Sandwiches\"}],\"rating\":4.0,\"coordinates\":{\"latitude\":36.097984,\"longitude\":-79.270142},\"transactions\":[],\"location\":{\"address1\":\"212 W Clay St\",\"address2\":\"\",\"address3\":\"\",\"city\":\"Mebane\",\"zip_code\":\"27302\",\"country\":\"US\",\"state\":\"NC\",\"display_address\":[\"212 W Clay St\",\"Mebane, NC 27302\"]},\"phone\":\"+19195680721\",\"display_phone\":\"(919) 568-0721\",\"distance\":11071.2423202015,\"price\":\"$$\"},{\"id\":\"-WUpyi-vfyqtvLIHeg37yw\",\"alias\":\"left-bank-butchery-saxapahaw\",\"name\":\"Left Bank Butchery\",\"image_url\":\"https:\\\\/\\\\/s3-media1.fl.yelpcdn.com\\\\/bphoto\\\\/DPuX_D6h7UYV1mpku0lomA\\\\/o.jpg\",\"is_closed\":false,\"url\":\"https:\\\\/\\\\/www.yelp.com\\\\/biz\\\\/left-bank-butchery-saxapahaw?adjust_creative=P_tD5zibfieAlw0iQZIJJA&utm_campaign=yelp_api_v3&utm_medium=api_v3_business_search&utm_source=P_tD5zibfieAlw0iQZIJJA\",\"review_count\":17,\"categories\":[{\"alias\":\"butcher\",\"title\":\"Butcher\"}],\"rating\":4.5,\"coordinates\":{\"latitude\":35.9467127239,\"longitude\":-79.318241363},\"transactions\":[],\"location\":{\"address1\":\"1729 Saxapahaw Bethlehem Church Rd\",\"address2\":\"\",\"address3\":\"\",\"city\":\"Saxapahaw\",\"zip_code\":\"27340\",\"country\":\"US\",\"state\":\"NC\",\"display_address\":[\"1729 Saxapahaw Bethlehem Church Rd\",\"Saxapahaw, NC 27340\"]},\"phone\":\"+13365252092\",\"display_phone\":\"(336) 525-2092\",\"distance\":12984.2533183307,\"price\":\"$$\"},{\"id\":\"96gwRulQhJRTw_xLQDrkDA\",\"alias\":\"little-brother-brewing-barrel-and-bottle-graham\",\"name\":\"Little Brother Brewing - Barrel and Bottle\",\"image_url\":\"https:\\\\/\\\\/s3-media1.fl.yelpcdn.com\\\\/bphoto\\\\/eddjqXYf3QTpgEiDYt3lCA\\\\/o.jpg\",\"is_closed\":false,\"url\":\"https:\\\\/\\\\/www.yelp.com\\\\/biz\\\\/little-brother-brewing-barrel-and-bottle-graham?adjust_creative=P_tD5zibfieAlw0iQZIJJA&utm_campaign=yelp_api_v3&utm_medium=api_v3_business_search&utm_source=P_tD5zibfieAlw0iQZIJJA\",\"review_count\":7,\"categories\":[{\"alias\":\"breweries\",\"title\":\"Breweries\"},{\"alias\":\"foodtrucks\",\"title\":\"Food Trucks\"}],\"rating\":3.5,\"coordinates\":{\"latitude\":36.069068,\"longitude\":-79.401122},\"transactions\":[],\"location\":{\"address1\":\"106 W Elm St\",\"address2\":null,\"address3\":\"\",\"city\":\"Graham\",\"zip_code\":\"27253\",\"country\":\"US\",\"state\":\"NC\",\"display_address\":[\"106 W Elm St\",\"Graham, NC 27253\"]},\"phone\":\"+13368600193\",\"display_phone\":\"(336) 860-0193\",\"distance\":2679.302399434,\"price\":null},{\"id\":\"6rKfYC2oNBv2RLTEiuySxg\",\"alias\":\"sakura-grill-mebane\",\"name\":\"Sakura Grill\",\"image_url\":\"https:\\\\/\\\\/s3-media3.fl.yelpcdn.com\\\\/bphoto\\\\/R0EICqCvmDBKkHQIRenPNw\\\\/o.jpg\",\"is_closed\":false,\"url\":\"https:\\\\/\\\\/www.yelp.com\\\\/biz\\\\/sakura-grill-mebane?adjust_creative=P_tD5zibfieAlw0iQZIJJA&utm_campaign=yelp_api_v3&utm_medium=api_v3_business_search&utm_source=P_tD5zibfieAlw0iQZIJJA\",\"review_count\":27,\"categories\":[{\"alias\":\"japanese\",\"title\":\"Japanese\"}],\"rating\":4.5,\"coordinates\":{\"latitude\":36.0670225,\"longitude\":-79.2693736},\"transactions\":[\"delivery\"],\"location\":{\"address1\":\"1327 Mebane Oaks Rd\",\"address2\":null,\"address3\":null,\"city\":\"Mebane\",\"zip_code\":\"27302\",\"country\":\"US\",\"state\":\"NC\",\"display_address\":[\"1327 Mebane Oaks Rd\",\"Mebane, NC 27302\"]},\"phone\":\"+19195638889\",\"display_phone\":\"(919) 563-8889\",\"distance\":9828.9825298605,\"price\":null},{\"id\":\"bt1bURZbKas2Wx9bDR2wzA\",\"alias\":\"golden-china-restaurant-graham\",\"name\":\"Golden China Restaurant\",\"image_url\":\"https:\\\\/\\\\/s3-media4.fl.yelpcdn.com\\\\/bphoto\\\\/bf_1Tjj3Y-W9S5-ueVx1kg\\\\/o.jpg\",\"is_closed\":false,\"url\":\"https:\\\\/\\\\/www.yelp.com\\\\/biz\\\\/golden-china-restaurant-graham?adjust_creative=P_tD5zibfieAlw0iQZIJJA&utm_campaign=yelp_api_v3&utm_medium=api_v3_business_search&utm_source=P_tD5zibfieAlw0iQZIJJA\",\"review_count\":61,\"categories\":[{\"alias\":\"chinese\",\"title\":\"Chinese\"}],\"rating\":4.0,\"coordinates\":{\"latitude\":36.0677763668,\"longitude\":-79.3996283184},\"transactions\":[\"delivery\"],\"location\":{\"address1\":\"202 S Main St\",\"address2\":\"Ste A\",\"address3\":\"\",\"city\":\"Graham\",\"zip_code\":\"27253\",\"country\":\"US\",\"state\":\"NC\",\"display_address\":[\"202 S Main St\",\"Ste A\",\"Graham, NC 27253\"]},\"phone\":\"+13362286115\",\"display_phone\":\"(336) 228-6115\",\"distance\":2480.4279739104,\"price\":\"$\"},{\"id\":\"obh7AiewDsja0F1JWNFb2Q\",\"alias\":\"nc-jelly-donuts-mebane\",\"name\":\"NC Jelly Donuts\",\"image_url\":\"https:\\\\/\\\\/s3-media3.fl.yelpcdn.com\\\\/bphoto\\\\/kZ-31G6aYL-w-xNgEEfmxg\\\\/o.jpg\",\"is_closed\":false,\"url\":\"https:\\\\/\\\\/www.yelp.com\\\\/biz\\\\/nc-jelly-donuts-mebane?adjust_creative=P_tD5zibfieAlw0iQZIJJA&utm_campaign=yelp_api_v3&utm_medium=api_v3_business_search&utm_source=P_tD5zibfieAlw0iQZIJJA\",\"review_count\":87,\"categories\":[{\"alias\":\"donuts\",\"title\":\"Donuts\"}],\"rating\":5.0,\"coordinates\":{\"latitude\":36.063913,\"longitude\":-79.299856},\"transactions\":[\"delivery\"],\"location\":{\"address1\":\"126 Millstead Dr\",\"address2\":\"Ste 126\",\"address3\":\"\",\"city\":\"Mebane\",\"zip_code\":\"27302\",\"country\":\"US\",\"state\":\"NC\",\"display_address\":[\"126 Millstead Dr\",\"Ste 126\",\"Mebane, NC 27302\"]},\"phone\":\"+19195680231\",\"display_phone\":\"(919) 568-0231\",\"distance\":7286.8217678194,\"price\":\"$\"},{\"id\":\"4iTXnTKeka68FVBNd0ofSQ\",\"alias\":\"california-burritos-burlington\",\"name\":\"California Burritos\",\"image_url\":\"https:\\\\/\\\\/s3-media1.fl.yelpcdn.com\\\\/bphoto\\\\/WjMbsZVYbYY632o3n8K5Vw\\\\/o.jpg\",\"is_closed\":false,\"url\":\"https:\\\\/\\\\/www.yelp.com\\\\/biz\\\\/california-burritos-burlington?adjust_creative=P_tD5zibfieAlw0iQZIJJA&utm_campaign=yelp_api_v3&utm_medium=api_v3_business_search&utm_source=P_tD5zibfieAlw0iQZIJJA\",\"review_count\":59,\"categories\":[{\"alias\":\"mexican\",\"title\":\"Mexican\"}],\"rating\":4.5,\"coordinates\":{\"latitude\":36.07031,\"longitude\":-79.523449},\"transactions\":[\"delivery\",\"pickup\"],\"location\":{\"address1\":\"1409 University Dr\",\"address2\":\"\",\"address3\":null,\"city\":\"Burlington\",\"zip_code\":\"27215\",\"country\":\"US\",\"state\":\"NC\",\"display_address\":[\"1409 University Dr\",\"Burlington, NC 27215\"]},\"phone\":\"+13366038323\",\"display_phone\":\"(336) 603-8323\",\"distance\":13084.1697976918,\"price\":null},{\"id\":\"7vO--qJ-0eXKZ4GEKP4PSA\",\"alias\":\"junction-on-70-mebane-2\",\"name\":\"Junction On 70\",\"image_url\":\"https:\\\\/\\\\/s3-media2.fl.yelpcdn.com\\\\/bphoto\\\\/ct5qoX_NQUeIYKmo5oTBvg\\\\/o.jpg\",\"is_closed\":false,\"url\":\"https:\\\\/\\\\/www.yelp.com\\\\/biz\\\\/junction-on-70-mebane-2?adjust_creative=P_tD5zibfieAlw0iQZIJJA&utm_campaign=yelp_api_v3&utm_medium=api_v3_business_search&utm_source=P_tD5zibfieAlw0iQZIJJA\",\"review_count\":138,\"categories\":[{\"alias\":\"pizza\",\"title\":\"Pizza\"},{\"alias\":\"burgers\",\"title\":\"Burgers\"},{\"alias\":\"italian\",\"title\":\"Italian\"}],\"rating\":4.0,\"coordinates\":{\"latitude\":36.09631,\"longitude\":-79.26731},\"transactions\":[],\"location\":{\"address1\":\"107 E Center St\",\"address2\":\"\",\"address3\":null,\"city\":\"Mebane\",\"zip_code\":\"27302\",\"country\":\"US\",\"state\":\"NC\",\"display_address\":[\"107 E Center St\",\"Mebane, NC 27302\"]},\"phone\":\"+19193041500\",\"display_phone\":\"(919) 304-1500\",\"distance\":11216.0262056378,\"price\":\"$$\"},{\"id\":\"jBwHLbl8hL19LgX9cUkTiw\",\"alias\":\"ulvias-restaurant-graham\",\"name\":\"Ulvias Restaurant\",\"image_url\":\"https:\\\\/\\\\/s3-media1.fl.yelpcdn.com\\\\/bphoto\\\\/4wMa5XFHal4qaRs7wzIZaw\\\\/o.jpg\",\"is_closed\":false,\"url\":\"https:\\\\/\\\\/www.yelp.com\\\\/biz\\\\/ulvias-restaurant-graham?adjust_creative=P_tD5zibfieAlw0iQZIJJA&utm_campaign=yelp_api_v3&utm_medium=api_v3_business_search&utm_source=P_tD5zibfieAlw0iQZIJJA\",\"review_count\":18,\"categories\":[{\"alias\":\"mexican\",\"title\":\"Mexican\"}],\"rating\":4.0,\"coordinates\":{\"latitude\":35.9071503,\"longitude\":-79.3071518},\"transactions\":[],\"location\":{\"address1\":\"3908 E Greensboro Chapel Hill Rd\",\"address2\":null,\"address3\":\"\",\"city\":\"Graham\",\"zip_code\":\"27253\",\"country\":\"US\",\"state\":\"NC\",\"display_address\":[\"3908 E Greensboro Chapel Hill Rd\",\"Graham, NC 27253\"]},\"phone\":\"+13363765425\",\"display_phone\":\"(336) 376-5425\",\"distance\":17419.7470016086,\"price\":\"$\"},{\"id\":\"Ja2kNsl6JkXTUk_NC9-2og\",\"alias\":\"taaza-bistro-burlington\",\"name\":\"Taaza Bistro\",\"image_url\":\"https:\\\\/\\\\/s3-media2.fl.yelpcdn.com\\\\/bphoto\\\\/pZ9xcs18bTah9mA2IQ_Abw\\\\/o.jpg\",\"is_closed\":false,\"url\":\"https:\\\\/\\\\/www.yelp.com\\\\/biz\\\\/taaza-bistro-burlington?adjust_creative=P_tD5zibfieAlw0iQZIJJA&utm_campaign=yelp_api_v3&utm_medium=api_v3_business_search&utm_source=P_tD5zibfieAlw0iQZIJJA\",\"review_count\":172,\"categories\":[{\"alias\":\"indpak\",\"title\":\"Indian\"}],\"rating\":4.0,\"coordinates\":{\"latitude\":36.08049,\"longitude\":-79.50587},\"transactions\":[\"delivery\",\"pickup\"],\"location\":{\"address1\":\"3252 S Church St\",\"address2\":null,\"address3\":\"\",\"city\":\"Burlington\",\"zip_code\":\"27215\",\"country\":\"US\",\"state\":\"NC\",\"display_address\":[\"3252 S Church St\",\"Burlington, NC 27215\"]},\"phone\":\"+13365240488\",\"display_phone\":\"(336) 524-0488\",\"distance\":11764.1731743057,\"price\":\"$$\"},{\"id\":\"c43nPaNwSvPmOUqWDROflA\",\"alias\":\"red-oak-lager-haus-and-biergarten-whitsett-2\",\"name\":\"Red Oak Lager Haus & Biergarten\",\"image_url\":\"https:\\\\/\\\\/s3-media4.fl.yelpcdn.com\\\\/bphoto\\\\/uQjRAgra7tOEzY5ss5exJQ\\\\/o.jpg\",\"is_closed\":false,\"url\":\"https:\\\\/\\\\/www.yelp.com\\\\/biz\\\\/red-oak-lager-haus-and-biergarten-whitsett-2?adjust_creative=P_tD5zibfieAlw0iQZIJJA&utm_campaign=yelp_api_v3&utm_medium=api_v3_business_search&utm_source=P_tD5zibfieAlw0iQZIJJA\",\"review_count\":119,\"categories\":[{\"alias\":\"breweries\",\"title\":\"Breweries\"}],\"rating\":4.0,\"coordinates\":{\"latitude\":36.0612663262,\"longitude\":-79.5691678},\"transactions\":[],\"location\":{\"address1\":\"6905 Konica Dr\",\"address2\":null,\"address3\":\"\",\"city\":\"Whitsett\",\"zip_code\":\"27377\",\"country\":\"US\",\"state\":\"NC\",\"display_address\":[\"6905 Konica Dr\",\"Whitsett, NC 27377\"]},\"phone\":\"+13364472005\",\"display_phone\":\"(336) 447-2005\",\"distance\":17064.6791446799,\"price\":\"$$\"}]'"
      ]
     },
     "execution_count": 14,
     "metadata": {},
     "output_type": "execute_result"
    }
   ],
   "source": [
    "businesses.to_json(orient='records')"
   ]
  }
 ],
 "metadata": {
  "kernelspec": {
   "display_name": "Python (dojo-env)",
   "language": "python",
   "name": "dojo-env"
  },
  "language_info": {
   "codemirror_mode": {
    "name": "ipython",
    "version": 3
   },
   "file_extension": ".py",
   "mimetype": "text/x-python",
   "name": "python",
   "nbconvert_exporter": "python",
   "pygments_lexer": "ipython3",
   "version": "3.9.15"
  },
  "toc": {
   "base_numbering": 1,
   "nav_menu": {},
   "number_sections": false,
   "sideBar": true,
   "skip_h1_title": false,
   "title_cell": "Table of Contents",
   "title_sidebar": "Contents",
   "toc_cell": false,
   "toc_position": {},
   "toc_section_display": true,
   "toc_window_display": false
  }
 },
 "nbformat": 4,
 "nbformat_minor": 5
}
